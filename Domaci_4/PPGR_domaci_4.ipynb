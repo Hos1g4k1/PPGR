{
  "nbformat": 4,
  "nbformat_minor": 0,
  "metadata": {
    "colab": {
      "name": "PPGR_domaci_4.ipynb",
      "provenance": [],
      "collapsed_sections": []
    },
    "kernelspec": {
      "name": "python3",
      "display_name": "Python 3"
    }
  },
  "cells": [
    {
      "cell_type": "code",
      "metadata": {
        "id": "2jx-lWCAC3Ys"
      },
      "source": [
        "import numpy as np\n",
        "import scipy.linalg as LAS"
      ],
      "execution_count": 42,
      "outputs": []
    },
    {
      "cell_type": "code",
      "metadata": {
        "id": "uYNn1XtTDKPZ"
      },
      "source": [
        "def insert_T_matrix():\n",
        "  print(\"Please insert 3x4 matrix:\")\n",
        "\n",
        "  matrix = np.zeros((3, 4))\n",
        "\n",
        "  # Ucitavanje matrice\n",
        "  for i in range(3):\n",
        "    for j in range(4):\n",
        "      x = int(input())\n",
        "      matrix[i][j] = x\n",
        "\n",
        "  T0 = np.zeros((3, 3))\n",
        "  # Izdvajanje matrice T0\n",
        "  for i in range(3):\n",
        "    for j in range(3):\n",
        "      T0[i][j] = matrix[i][j]\n",
        "\n",
        "  # Ukoliko je det(T0) < 0 treba\n",
        "  # celu matricu T pomnoziti sa -1\n",
        "  if LA.det(T0) < 0:\n",
        "    for i in range(3):\n",
        "      for j in range(4):\n",
        "        matrix[i][j] = -matrix[i][j]\n",
        "\n",
        "  return matrix\n",
        "\n",
        "#T = insert_T_matrix()\n",
        "\n",
        "#T = [[5, -23, 3, -15], [0, -1, 5, 21], [0, -1, 0, 1]]\n",
        "T = [[5, -19, 3, -9], [0, -1, 5, 21], [0, -1, 0, 1]]"
      ],
      "execution_count": 49,
      "outputs": []
    },
    {
      "cell_type": "code",
      "metadata": {
        "colab": {
          "base_uri": "https://localhost:8080/"
        },
        "id": "8-8d3UL2FwyR",
        "outputId": "cc10f88d-8f22-4653-fc9a-2e43268011b7"
      },
      "source": [
        "def find_A_and_K_paremeter(T):\n",
        "\n",
        "  T0 = np.zeros((3, 3))\n",
        "\n",
        "  # Izdvaja se T0\n",
        "  for i in range(3):\n",
        "    for j in range(3):\n",
        "      T0[i][j] = T[i][j]\n",
        "\n",
        "  col = [T[0][3], T[1][3], T[2][3]]\n",
        "\n",
        "  # Resava se sistem -T0*C = col\n",
        "  C = LAS.solve(-T0, col)\n",
        "\n",
        "  # Radi se Q, R dekompozicija od inv(T0)\n",
        "  Q, R = LAS.qr(LAS.inv(T0))\n",
        "\n",
        "  Q[:][1] = -Q[:][1]\n",
        "  Q[:][2] = -Q[:][2]\n",
        "\n",
        "  # Ukoliko je i-ti dijagonalni elemenat\n",
        "  # matrice R manji od 0 treba pomnoziti\n",
        "  # i-tu vrstu matrice R i i-tu kolonu\n",
        "  # matrice Q sa -1 \n",
        "  for i in range(3):\n",
        "    for j in range(3):\n",
        "      if i == j:\n",
        "        if R[i][j] < 0:\n",
        "          Q[:][i] = -1*Q[:][i]\n",
        "          R[i][:] = -1*R[i][:]\n",
        "\n",
        "  K = LAS.inv(R)\n",
        "  A = np.transpose(Q)\n",
        "\n",
        "  for i in range(3):\n",
        "    for j in range(3):\n",
        "      K[i][j] /= K[2][2]\n",
        "\n",
        "  return K, A, C\n",
        "\n",
        "K, A, C = find_A_and_K_paremeter(T)\n",
        "\n",
        "print(\"Matrix K is:\")\n",
        "print(K)\n",
        "print()\n",
        "print()\n",
        "print(\"Matrix A is:\")\n",
        "print(A)\n",
        "print()\n",
        "print()\n",
        "print(\"Vector C is:\")\n",
        "print(C)"
      ],
      "execution_count": 52,
      "outputs": [
        {
          "output_type": "stream",
          "text": [
            "Matrix K is:\n",
            "[[ 5.  3. 19.]\n",
            " [ 0.  5.  1.]\n",
            " [ 0.  0.  1.]]\n",
            "\n",
            "\n",
            "Matrix A is:\n",
            "[[ 1.  0. -0.]\n",
            " [ 0.  0.  1.]\n",
            " [ 0. -1. -0.]]\n",
            "\n",
            "\n",
            "Vector C is:\n",
            "[ 8.  1. -4.]\n"
          ],
          "name": "stdout"
        }
      ]
    },
    {
      "cell_type": "code",
      "metadata": {
        "colab": {
          "base_uri": "https://localhost:8080/"
        },
        "id": "lvPnIQiNkurg",
        "outputId": "e48071a6-5eb1-4dfe-83a5-ccb98d90a310"
      },
      "source": [
        "def DLT_camera(originals, projections):\n",
        "  if(len(originals) < 4 or len(projections) < 6 or len(originals) != len(projections)):\n",
        "    print(\"Losi argumenti funkcije!\")\n",
        "    return None\n",
        "\n",
        "  n = len(originals)\n",
        "\n",
        "  matrix = np.array([], dtype=np.float32).reshape(0, 12)\n",
        "\n",
        "  for i in range(0, n):\n",
        "    point1 = originals[i]\n",
        "    point2 = projections[i]\n",
        "\n",
        "    tmp = np.array([[0, 0, 0, 0,     -point2[2]*point1[0], -point2[2]*point1[1], -point2[2]*point1[2], -point2[2]*point1[3],            point2[1]*point1[0], point2[1]*point1[1], point2[1]*point1[2], point2[1]*point1[3]], \n",
        "                    [point2[2]*point1[0], point2[2]*point1[1], point2[2]*point1[2], point2[2]*point1[3],          0, 0, 0, 0,          -point2[0]*point1[0], -point2[0]*point1[1], -point2[0]*point1[2], -point2[0]*point1[3]]])\n",
        "\n",
        "    matrix = np.concatenate((matrix, tmp), axis=0)\n",
        "\n",
        "  SVD = np.linalg.svd(matrix, compute_uv=True)\n",
        "  T = SVD[2][-1].reshape(3, 4)\n",
        "\n",
        "  return T/(T[0][0])\n",
        "\n",
        "#originals = [[460, 280, 250, 1], [50, 380, 350, 1], [470, 500, 100, 1], [380, 630, 550, 1], [330, 290, 0, 1], [580, 0, 130, 1]]\n",
        "#projections = [[288, 251, 1], [79, 510, 1], [470, 440, 1], [520, 590, 1], [365, 388, 1], [365, 20, 1]]\n",
        "\n",
        "originals = [[460, 280, 250, 1], [50, 380, 350, 1], [470, 380, 100, 1], [380, 630, 450, 1], [270, 290, 0, 1], [580, 0, 130, 1]]\n",
        "projections = [[288, 251, 1], [79, 510, 1], [470, 440, 1], [520, 590, 1], [365, 388, 1], [365, 20, 1]]\n",
        "\n",
        "\n",
        "T = DLT_camera(originals, projections)\n",
        "print(\"Matrica T je:\")\n",
        "for i in range(3):\n",
        "  print(T[i])"
      ],
      "execution_count": 48,
      "outputs": [
        {
          "output_type": "stream",
          "text": [
            "Matrica T je:\n",
            "[   1.           -1.08496482    3.22926156 -880.05413699]\n",
            "[ 2.14671162e+00 -1.84357560e-01  2.58960820e+00 -1.57480233e+03]\n",
            "[ 4.77690501e-03 -1.81572964e-03  7.02580605e-03 -3.30025526e+00]\n"
          ],
          "name": "stdout"
        }
      ]
    }
  ]
}