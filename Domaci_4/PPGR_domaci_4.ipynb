{
  "nbformat": 4,
  "nbformat_minor": 0,
  "metadata": {
    "colab": {
      "name": "PPGR_domaci_4.ipynb",
      "provenance": [],
      "collapsed_sections": []
    },
    "kernelspec": {
      "name": "python3",
      "display_name": "Python 3"
    }
  },
  "cells": [
    {
      "cell_type": "code",
      "metadata": {
        "id": "2jx-lWCAC3Ys"
      },
      "source": [
        "import numpy as np\n",
        "import numpy.linalg as LA"
      ],
      "execution_count": 53,
      "outputs": []
    },
    {
      "cell_type": "code",
      "metadata": {
        "colab": {
          "base_uri": "https://localhost:8080/"
        },
        "id": "uYNn1XtTDKPZ",
        "outputId": "47f9a825-4601-4f73-c814-178802b5304d"
      },
      "source": [
        "def insert_T_matrix():\n",
        "  print(\"Please insert 3x4 matrix:\")\n",
        "\n",
        "  matrix = np.zeros((3, 4))\n",
        "\n",
        "  # Ucitavanje matrice\n",
        "  for i in range(3):\n",
        "    for j in range(4):\n",
        "      x = int(input())\n",
        "      matrix[i][j] = x\n",
        "\n",
        "  T0 = np.zeros((3, 3))\n",
        "  # Izdvajanje matrice T0\n",
        "  for i in range(3):\n",
        "    for j in range(3):\n",
        "      T0[i][j] = matrix[i][j]\n",
        "\n",
        "  # Ukoliko je det(T0) < 0 treba\n",
        "  # celu matricu T pomnoziti sa -1\n",
        "  if LA.det(T0) < 0:\n",
        "    for i in range(3):\n",
        "      for j in range(4):\n",
        "        matrix[i][j] = -matrix[i][j]\n",
        "\n",
        "  return matrix\n",
        "\n",
        "T = insert_T_matrix()"
      ],
      "execution_count": 75,
      "outputs": [
        {
          "output_type": "stream",
          "text": [
            "Please insert 3x4 matrix:\n",
            "5\n",
            "-23\n",
            "3\n",
            "-15\n",
            "0\n",
            "-1\n",
            "5\n",
            "21\n",
            "0\n",
            "-1\n",
            "0\n",
            "1\n"
          ],
          "name": "stdout"
        }
      ]
    },
    {
      "cell_type": "code",
      "metadata": {
        "colab": {
          "base_uri": "https://localhost:8080/"
        },
        "id": "_j97CWwXD6Wd",
        "outputId": "7c4c7e36-5813-4f68-9096-6fae25e4d2b7"
      },
      "source": [
        "def find_C_parameter(T):\n",
        "\n",
        "  T0 = np.zeros((3, 3))\n",
        "\n",
        "  # Izdvaja se matrica T0\n",
        "  for i in range(3):\n",
        "    for j in range(3):\n",
        "      T0[i][j] = T[i][j]\n",
        "\n",
        "  # izdavaje se poslednja kolona iz T\n",
        "  col = [T[0][3], T[1][3], T[2][3]]\n",
        "\n",
        "  # Resava se sistem -T0*C = col\n",
        "  C = LA.solve(-T0, col)\n",
        "\n",
        "  return C\n",
        "\n",
        "find_C_parameter(T)"
      ],
      "execution_count": 78,
      "outputs": [
        {
          "output_type": "execute_result",
          "data": {
            "text/plain": [
              "array([10.,  1., -4.])"
            ]
          },
          "metadata": {
            "tags": []
          },
          "execution_count": 78
        }
      ]
    },
    {
      "cell_type": "code",
      "metadata": {
        "colab": {
          "base_uri": "https://localhost:8080/"
        },
        "id": "8-8d3UL2FwyR",
        "outputId": "8f4eb6c1-e111-41be-82c0-4a57fbaa47d1"
      },
      "source": [
        "def find_A_and_K_paremeter(T):\n",
        "\n",
        "  T0 = np.zeros((3, 3))\n",
        "\n",
        "  # Izdvaja se T0\n",
        "  for i in range(3):\n",
        "    for j in range(3):\n",
        "      T0[i][j] = T[i][j]\n",
        "\n",
        "  # Radi se Q, R dekompozicija od inv(T0)\n",
        "  Q, R = LA.qr(LA.inv(T0))\n",
        "\n",
        "  #Q = np.column_stack([Q[: i] if R[i, i] > 0 else -1*Q[:, i] for i in range(len(Q))])\n",
        "  #R = np.array([R[i] if R[i, i] > 0 else -1*R[i] for i in range(len(R))])\n",
        "\n",
        "  print(\"Matrix Q:\")\n",
        "  print(Q)\n",
        "\n",
        "  print()\n",
        "  print()\n",
        "\n",
        "  print(\"Matrix R:\")\n",
        "  print(R)\n",
        "  print()\n",
        "  print()\n",
        "\n",
        "  # Ukoliko je i-ti dijagonalni elemenat\n",
        "  # matrice R manji od 0 treba pomnoziti\n",
        "  # i-tu vrstu matrice R i i-tu kolonu\n",
        "  # matrice Q sa -1 \n",
        "  for i in range(3):\n",
        "    for j in range(3):\n",
        "      if i == j:\n",
        "        if R[i][j] < 0:\n",
        "          Q[:][i] = -1*Q[:][i]\n",
        "          R[i][:] = -1*R[i][:]\n",
        "          # Ovo moze biti veliki problem\n",
        "          #Q[:][i-1] = -Q[:][i-1]\n",
        "\n",
        "  K = LA.inv(R)\n",
        "  A = np.transpose(Q)\n",
        "\n",
        "  for i in range(3):\n",
        "    for j in range(3):\n",
        "      K[i][j] /= K[2][2]\n",
        "\n",
        "  return K, A\n",
        "\n",
        "K, A = find_A_and_K_paremeter(T)\n",
        "\n",
        "print(\"Matrix K is:\")\n",
        "print(K)\n",
        "print()\n",
        "print()\n",
        "print(\"Matrix A is:\")\n",
        "print(A)\n",
        "print()\n",
        "print()\n",
        "print(K @ A)"
      ],
      "execution_count": 79,
      "outputs": [
        {
          "output_type": "stream",
          "text": [
            "Matrix Q:\n",
            "[[1. 0. 0.]\n",
            " [0. 0. 1.]\n",
            " [0. 1. 0.]]\n",
            "\n",
            "\n",
            "Matrix R:\n",
            "[[ 0.2  -0.12 -4.48]\n",
            " [ 0.    0.2  -0.2 ]\n",
            " [ 0.    0.   -1.  ]]\n",
            "\n",
            "\n",
            "Matrix K is:\n",
            "[[ 5.  3. 23.]\n",
            " [ 0.  5.  1.]\n",
            " [ 0.  0.  1.]]\n",
            "\n",
            "\n",
            "Matrix A is:\n",
            "[[ 1.  0. -0.]\n",
            " [ 0.  0. -1.]\n",
            " [ 0.  1. -0.]]\n",
            "\n",
            "\n",
            "[[ 5. 23. -3.]\n",
            " [ 0.  1. -5.]\n",
            " [ 0.  1.  0.]]\n"
          ],
          "name": "stdout"
        }
      ]
    }
  ]
}