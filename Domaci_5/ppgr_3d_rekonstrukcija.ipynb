{
  "nbformat": 4,
  "nbformat_minor": 0,
  "metadata": {
    "colab": {
      "name": "ppgr_3d_rekonstrukcija.ipynb",
      "provenance": []
    },
    "kernelspec": {
      "name": "python3",
      "display_name": "Python 3"
    }
  },
  "cells": [
    {
      "cell_type": "code",
      "metadata": {
        "id": "pWbH4NtFxYL7"
      },
      "source": [
        "import numpy as np\n",
        "import numpy.linalg as LA"
      ],
      "execution_count": 1,
      "outputs": []
    },
    {
      "cell_type": "code",
      "metadata": {
        "id": "EPUbCs0tZ-zq"
      },
      "source": [
        "# Originalne tacke i tacke projekcije\n",
        "x1 = np.array([958, 38, 1.])\n",
        "y1 = np.array([933, 33, 1.])\n",
        "x2 = np.array([1117, 111, 1.])\n",
        "y2 = np.array([1027, 132, 1.])\n",
        "x3 = np.array([874, 285, 1.])\n",
        "y3 = np.array([692, 223, 1.])\n",
        "x4 = np.array([707, 218, 1.])\n",
        "y4 = np.array([595, 123, 1.])\n",
        "x9 = np.array([292, 569, 1.])\n",
        "y9 = np.array([272, 360, 1.])\n",
        "x10 = np.array([770, 969, 1.])\n",
        "y10 = np.array([432, 814, 1.])\n",
        "x11 = np.array([770, 1465, 1.])\n",
        "y11 = np.array([414, 1284, 1.])\n",
        "x12 = np.array([317, 1057, 1.])\n",
        "y12 = np.array([258, 818, 1.])\n",
        "\n",
        "# Vektori tih tacaka, bez normalizacije\n",
        "tacke_1 = np.array([x1, x2, x3, x4, x9, x10, x11, x12])\n",
        "tacke_2 = np.array([y1, y2, y3, y4, y9, y10, y11, y12])"
      ],
      "execution_count": 36,
      "outputs": []
    },
    {
      "cell_type": "code",
      "metadata": {
        "id": "hAfZepUzy9jg"
      },
      "source": [
        "# Jadnacina y^T*F*x=0\n",
        "def jed(x, y):\n",
        "  return [x[0]*y[0], x[1]*y[0], x[2]*y[0], x[0]*y[1], x[1]*y[1], x[2]*y[1], x[0]*y[2], x[1]*y[2], x[2]*y[2]]"
      ],
      "execution_count": 27,
      "outputs": []
    },
    {
      "cell_type": "code",
      "metadata": {
        "id": "8GmDoEtjYl2v"
      },
      "source": [
        "# Funkcija za prebacivanje u afine koordinate\n",
        "def afinize(x):\n",
        "  return x / x[-1]"
      ],
      "execution_count": 28,
      "outputs": []
    },
    {
      "cell_type": "code",
      "metadata": {
        "id": "slxd4mjh1llz"
      },
      "source": [
        "# Matrica koja predstavlja 8 jednacina dobijenih iz korespodencija\n",
        "matrix = np.zeros((8, 9))\n",
        "\n",
        "for i in range(8):\n",
        "  matrix[i] = jed(tacke_1[i], tacke_2[i])\n"
      ],
      "execution_count": 29,
      "outputs": []
    },
    {
      "cell_type": "code",
      "metadata": {
        "colab": {
          "base_uri": "https://localhost:8080/"
        },
        "id": "3U9M9eDA3CuQ",
        "outputId": "879fc364-de08-451e-d213-da461f7c5bcf"
      },
      "source": [
        "# Konstruisanje fundamentalne matrice\n",
        "SVD = LA.svd(matrix)\n",
        "\n",
        "F = SVD[-1][-1].reshape(3, 3)\n",
        "\n",
        "print(F)"
      ],
      "execution_count": 30,
      "outputs": [
        {
          "output_type": "stream",
          "text": [
            "[[ 4.54020258e-07 -7.42529108e-07 -1.86611244e-03]\n",
            " [-1.99099442e-07  2.11775653e-07  2.77795603e-03]\n",
            " [ 3.96239362e-04 -2.72717967e-03  9.99990603e-01]]\n"
          ],
          "name": "stdout"
        }
      ]
    },
    {
      "cell_type": "code",
      "metadata": {
        "colab": {
          "base_uri": "https://localhost:8080/"
        },
        "id": "gS0lbOXx6M4T",
        "outputId": "067ebf1d-ca55-48cf-ba99-30d2b5f4c752"
      },
      "source": [
        "# Testiranje da li vazi uslov y^T*F*x = 0\n",
        "# i da li je determinanta fundamentalne matrice\n",
        "# bliska nuli\n",
        "\n",
        "def test(x, y, F):\n",
        "  x = np.array(x)\n",
        "  y = np.array(y)\n",
        "  return y @ F @ x\n",
        "\n",
        "print(\"Testiranje:\")\n",
        "\n",
        "for i in range(8):\n",
        "  if test(tacke_1[i], tacke_2[i], F) != 0:\n",
        "    print(test(tacke_1[i], tacke_2[i], F))\n",
        "\n",
        "print()\n",
        "print(\"Determinanta fundamentalne matrice:\")\n",
        "print(LA.det(F))"
      ],
      "execution_count": 31,
      "outputs": [
        {
          "output_type": "stream",
          "text": [
            "Testiranje:\n",
            "2.220446049250313e-16\n",
            "2.098321516541546e-14\n",
            "1.021405182655144e-14\n",
            "3.247402347028583e-15\n",
            "1.3766765505351941e-14\n",
            "-1.554312234475219e-14\n",
            "-5.5067062021407764e-14\n",
            "-4.618527782440651e-14\n",
            "\n",
            "Determinanta fundamentalne matrice:\n",
            "1.713967417960357e-12\n"
          ],
          "name": "stdout"
        }
      ]
    },
    {
      "cell_type": "code",
      "metadata": {
        "colab": {
          "base_uri": "https://localhost:8080/"
        },
        "id": "DGjdkJ-3YSWJ",
        "outputId": "bc781073-2391-4a0d-b050-b2050c592c82"
      },
      "source": [
        "# S, V, D dekompozicija fundamentalne matrice\n",
        "SVDF = LA.svd(F)\n",
        "U, D, V = SVDF\n",
        "\n",
        "# Odredjivanje prvog i drugog epipola\n",
        "e1 = V[-1]\n",
        "e1 = afinize(e1)\n",
        "\n",
        "e2 = U[:, -1]\n",
        "e2 = afinize(e2)\n",
        "\n",
        "print()\n",
        "print(\"Koordinate prvod epipola:\")\n",
        "print(e1)\n",
        "print(\"Koordinate drugog epipola:\")\n",
        "print(e2)\n"
      ],
      "execution_count": 32,
      "outputs": [
        {
          "output_type": "stream",
          "text": [
            "\n",
            "Koordinate prvod epipola:\n",
            "[1.04078394e+04 1.87885919e+03 1.00000000e+00]\n",
            "Koordinate drugog epipola:\n",
            "[-4.38831707e+03 -3.30785789e+03  1.00000000e+00]\n"
          ],
          "name": "stdout"
        }
      ]
    },
    {
      "cell_type": "code",
      "metadata": {
        "colab": {
          "base_uri": "https://localhost:8080/"
        },
        "id": "ymUMn9FrZTIe",
        "outputId": "5d4a3e0c-df0c-4602-eebb-f759e76f5ad4"
      },
      "source": [
        "# Postizanje uslova det(F) = 0\n",
        "\n",
        "D1 = np.diag([1, 1, 0]) @ D\n",
        "D1 = np.diag(D1)\n",
        "\n",
        "F1 = U @ D1 @ V\n",
        "\n",
        "print(LA.det(F1))"
      ],
      "execution_count": 33,
      "outputs": [
        {
          "output_type": "stream",
          "text": [
            "4.855996621224824e-28\n"
          ],
          "name": "stdout"
        }
      ]
    },
    {
      "cell_type": "code",
      "metadata": {
        "id": "ggHOFBLxaPJA"
      },
      "source": [
        "# Preostale vidljive tacke\n",
        "\n",
        "x6 = np.array([1094, 536, 1.])\n",
        "y6 = np.array([980, 535, 1.])\n",
        "x7 = np.array([862, 729, 1.])\n",
        "y7 = np.array([652, 638, 1.])\n",
        "x8 = np.array([710, 648, 1.])\n",
        "y8 = np.array([567, 532, 1.])\n",
        "x14 = np.array([1487, 598, 1.])\n",
        "y14 = np.array([1303, 700, 1.])\n",
        "x15 = np.array([1462, 1079, 1.])\n",
        "y15 = np.array([1257, 1165, 1.])\n",
        "y13 = np.array([1077, 269, 1.])"
      ],
      "execution_count": 38,
      "outputs": []
    },
    {
      "cell_type": "code",
      "metadata": {
        "id": "WjJY1w4qaV0i"
      },
      "source": [
        "# Odredjivanje skrivenih tacaka\n",
        "def cross(a, b, c, d, e, f, g, h, i, j):\n",
        "  return np.cross(\n",
        "      np.cross(np.cross(np.cross(a, b), np.cross(c, d)), e),\n",
        "      np.cross(np.cross(np.cross(f, g), np.cross(h, i)), j)\n",
        "  )\n",
        "\n",
        "# Nevidljive tacke prve projekcije\n",
        "x5 = cross(x4, x8, x6, x2, x1, x1, x4, x3, x2, x8)\n",
        "\n",
        "x13 = cross(x9, x10, x11, x12, x14, x11, x15, x10, x14,  x9)\n",
        "\n",
        "x16 = cross(x10, x14, x11, x15, x12, x9, x10, x11, x12, x15)\n",
        "\n",
        "# Nevidljive tacke druge projekcije\n",
        "y5 = cross(y4, y8, y6, y2, y1, y1, y4, y3, y2, y8)\n",
        "\n",
        "y16 = cross(y10, y14, y11, y15, y12, y9, y10, y11, y12, y15)"
      ],
      "execution_count": 40,
      "outputs": []
    },
    {
      "cell_type": "code",
      "metadata": {
        "id": "cydO2oyNa_kB"
      },
      "source": [
        "# Triangulacija\n",
        "\n",
        "# Kanonska matrica kamere\n",
        "T1 = np.hstack([np.eye(3), np.zeros(3).reshape(3, 1)])\n",
        "\n",
        "# Matrica vektorskog mnozenja\n",
        "vec = lambda p: np.array([[  0,   -p[2],  p[1]],\n",
        "                          [ p[2],   0,   -p[0]],\n",
        "                          [-p[1],  p[0],   0  ]])\n",
        "\n",
        "# Matrica drugog epipola\n",
        "E2 = vec(e2)\n",
        "\n",
        "# Druga matrica kamere\n",
        "T2 = np.hstack([E2 @ F1, e2.reshape(3, 1)])\n",
        "\n",
        "# Za svaku tacku po sistem od cetiri jednacine\n",
        "# sa cetiri homogene nepoznate, mada mogu i tri\n",
        "jednacine = lambda xx, yy: np.array([ xx[1]*T1[2] - xx[2]*T1[1],\n",
        "                                       -xx[0]*T1[2] + xx[2]*T1[0],\n",
        "                                        yy[1]*T2[2] - yy[2]*T2[1],\n",
        "                                       -yy[0]*T2[2] + yy[2]*T2[0]])\n",
        "\n",
        "# Prebacivanje u afine koordinate oblika (x, y)\n",
        "def toAffine(x):\n",
        "  return afinize(x)[:-1]\n",
        "\n",
        "# Funkcija koja vraca 3D koordinate rekonstruisane tacke\n",
        "def ThreeD(x, y):\n",
        "  return toAffine(LA.svd(jednacine(x, y))[-1][-1])\n",
        "\n",
        "image_1 = np.array([x1, x2, x3, x4, x5, x6, x7, x8, x9, x10, x11, x12, x13, x14, x15, x16])\n",
        "image_2 = np.array([y1, y2, y3, y4, y5, y6, y7, y8, y9, y10, y11, y12, y13, y14, y15, y16])\n",
        "\n",
        "# Vektor rekonstruisanih tacaka\n",
        "reconstructed = np.array([ThreeD(x, y) for x, y in zip(image_1, image_2)])\n",
        "\n",
        "def multiplie(x, n):\n",
        "  return np.diag([1, 1, n]) @ x\n",
        "\n",
        "# Mnozimo z koordinatu jer nije radjena normalizacija\n",
        "reconstructed400 = np.array([multiplie(x, 400) for x in reconstructed])\n",
        "\n",
        "iviceMala = np.array([[1, 2], [2, 3], [3, 4], [4, 1],\n",
        "                      [5, 6], [6, 7], [7, 8], [8, 5],\n",
        "                      [1, 5], [2, 6], [3, 7], [4, 8]])\n",
        "\n",
        "iviceVelika = np.array([[ 9, 10], [10, 11], [11, 12], [12,  9], \n",
        "                        [13, 14], [14, 15], [15, 16], [16, 13],\n",
        "                        [ 9, 13], [10, 14], [11, 15], [12, 16]])"
      ],
      "execution_count": 55,
      "outputs": []
    },
    {
      "cell_type": "code",
      "metadata": {
        "id": "R5Hk9UNXggvW"
      },
      "source": [
        ""
      ],
      "execution_count": null,
      "outputs": []
    }
  ]
}