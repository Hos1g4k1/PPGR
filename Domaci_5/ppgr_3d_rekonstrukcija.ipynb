{
  "nbformat": 4,
  "nbformat_minor": 0,
  "metadata": {
    "colab": {
      "name": "ppgr_3d_rekonstrukcija.ipynb",
      "provenance": []
    },
    "kernelspec": {
      "name": "python3",
      "display_name": "Python 3"
    }
  },
  "cells": [
    {
      "cell_type": "code",
      "metadata": {
        "id": "pWbH4NtFxYL7"
      },
      "source": [
        "tacke_1 = [[958, 38, 1], [1117, 111, 1], [874, 285, 1], [707, 218, 1], [292, 569, 1], [770, 969, 1], [770, 1465, 1], [317, 1057, 1]]\n",
        "tacke_2 = [[933, 33, 1], [1027, 132, 1], [692, 223, 1], [595, 123, 1], [272, 360, 1], [432, 814, 1], [414, 1284, 1], [258, 818, 1]]"
      ],
      "execution_count": 7,
      "outputs": []
    },
    {
      "cell_type": "code",
      "metadata": {
        "id": "W1-Ofaj0y514"
      },
      "source": [
        "import numpy as np\n",
        "import numpy.linalg as LA"
      ],
      "execution_count": 25,
      "outputs": []
    },
    {
      "cell_type": "code",
      "metadata": {
        "id": "hAfZepUzy9jg"
      },
      "source": [
        "def jed(x, y):\n",
        "  return [x[0]*y[0], x[1]*y[0], x[2]*y[0], x[0]*y[1], x[1]*y[1], x[2]*y[1], x[0]*y[2], x[1]*y[2], x[2]*y[2]]"
      ],
      "execution_count": 26,
      "outputs": []
    },
    {
      "cell_type": "code",
      "metadata": {
        "id": "slxd4mjh1llz"
      },
      "source": [
        "matrix = np.zeros((8, 9))\n",
        "\n",
        "for i in range(8):\n",
        "  matrix[i] = jed(tacke_1[i], tacke_2[i])"
      ],
      "execution_count": 34,
      "outputs": []
    },
    {
      "cell_type": "code",
      "metadata": {
        "colab": {
          "base_uri": "https://localhost:8080/"
        },
        "id": "3U9M9eDA3CuQ",
        "outputId": "c4f5d73d-6e34-437b-b799-f0c3efef9dad"
      },
      "source": [
        "u, d, v = LA.svd(matrix)\n",
        "\n",
        "F = np.zeros((3, 3))\n",
        "\n",
        "n = v.shape[1]\n",
        "k = 0\n",
        "for i in range(3):\n",
        "  for j in range(3):\n",
        "    F[i][j] = v[k][n-1]\n",
        "    k += 1\n",
        "\n",
        "print(F)"
      ],
      "execution_count": 35,
      "outputs": [
        {
          "output_type": "stream",
          "text": [
            "[[-7.84115037e-07  8.99762370e-07  3.43898904e-07]\n",
            " [ 8.26053935e-06 -1.95917969e-04 -1.70354384e-03]\n",
            " [ 3.54170315e-03  1.81927302e-03  9.99990603e-01]]\n"
          ],
          "name": "stdout"
        }
      ]
    },
    {
      "cell_type": "code",
      "metadata": {
        "colab": {
          "base_uri": "https://localhost:8080/"
        },
        "id": "gS0lbOXx6M4T",
        "outputId": "48e3d428-3894-47d3-b58d-afaf5ccd4f1d"
      },
      "source": [
        "def test(x, y, F):\n",
        "  x = np.array(x)\n",
        "  y = np.array(y)\n",
        "  return y @ F @ x\n",
        "\n",
        "for i in range(8):\n",
        "  if test(tacke_1[i], tacke_2[i], F) != 0:\n",
        "    print(test(tacke_1[i], tacke_2[i], F))\n",
        "\n",
        "print(LA.det(F))"
      ],
      "execution_count": 36,
      "outputs": [
        {
          "output_type": "stream",
          "text": [
            "3.7526932427664645\n",
            "2.483940197482996\n",
            "-6.904079119731003\n",
            "-1.0568962553179984\n",
            "-36.73035996633302\n",
            "-145.1366306907186\n",
            "-355.86554089015664\n",
            "-164.42024950538675\n",
            "1.3857331671975401e-10\n"
          ],
          "name": "stdout"
        }
      ]
    }
  ]
}