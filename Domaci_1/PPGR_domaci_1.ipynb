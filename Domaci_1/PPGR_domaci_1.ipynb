{
  "nbformat": 4,
  "nbformat_minor": 0,
  "metadata": {
    "colab": {
      "name": "PPGR_domaci_1.ipynb",
      "provenance": [],
      "collapsed_sections": []
    },
    "kernelspec": {
      "name": "python3",
      "display_name": "Python 3"
    },
    "accelerator": "GPU"
  },
  "cells": [
    {
      "cell_type": "code",
      "metadata": {
        "id": "CiUGRldwDTZK"
      },
      "source": [
        "import numpy as np\n",
        "import math as mat\n",
        "\n",
        "# Funkcija koja vrsi ucitavanje tacaka u afinim koordinatama\n",
        "def ucitaj_tacke():\n",
        "  print(\"Unesite 7 koordinata kvadra:\")\n",
        "  tacke = []\n",
        "  for i in range(7):\n",
        "    x = int(input(\"Unesite prvu koordinatu:\"))\n",
        "    y = int(input(\"Unesite drugu koordinatu:\"))\n",
        "    tacke.append((x, y))\n",
        "    print()\n",
        "\n",
        "  return tacke"
      ],
      "execution_count": null,
      "outputs": []
    },
    {
      "cell_type": "code",
      "metadata": {
        "id": "Xb-2xdkbEqEB"
      },
      "source": [
        "# Funckija koja vrsi prebacivanje koordinata iz afinih u projektivne\n",
        "def prosiri_u_projektivne_koordinate(tacke):\n",
        "\n",
        "  projektivne = []\n",
        "\n",
        "  for tacka in tacke:\n",
        "    X = (tacka[0], tacka[1], 1)\n",
        "    projektivne.append(X)\n",
        "  \n",
        "  return np.array(projektivne)\n",
        "\n"
      ],
      "execution_count": 23,
      "outputs": []
    },
    {
      "cell_type": "code",
      "metadata": {
        "id": "3yr2jdEgASgr"
      },
      "source": [
        "# Funkcija koja nalazi trazenu tacku preko vektorskih proizvoda pravih u projektivnoj ravni\n",
        "def nadji_nevidljivu(tacke):\n",
        "\n",
        "  tacke = prosiri_u_projektivne_koordinate(tacke)\n",
        "  A, B, C, D, A1, B1, C1 = tacke[0], tacke[1], tacke[2], tacke[3], tacke[4], tacke[5], tacke[6]\n",
        "\n",
        "  BA = np.cross(B, A)\n",
        "  CD = np.cross(C, D)\n",
        "  P = np.cross(BA, CD)\n",
        "\n",
        "  AD = np.cross(A, D)\n",
        "  BC = np.cross(B, C)\n",
        "  Q = np.cross(AD, BC)\n",
        "\n",
        "  C1P = np.cross(C1, P)\n",
        "  A1Q = np.cross(A1, Q)\n",
        "\n",
        "  D1 = np.cross(C1P, A1Q)\n",
        "  D1 = pretvori(D1)\n",
        "  D1 = np.array([int(D1[0]), int(D1[1])])\n",
        "\n",
        "  return D1"
      ],
      "execution_count": 21,
      "outputs": []
    },
    {
      "cell_type": "code",
      "metadata": {
        "id": "O78mKc9Z7irn"
      },
      "source": [
        "# Funckija koja skalira projektivnu reprezentaciju tacke tako da joj poslednja koordinata bude 1\n",
        "def pretvori(D1):\n",
        "  return D1 / D1[2]"
      ],
      "execution_count": null,
      "outputs": []
    },
    {
      "cell_type": "code",
      "metadata": {
        "id": "YWQLIwEH2eb9",
        "outputId": "a374f880-1d6a-421b-8b30-aaec0daa146c",
        "colab": {
          "base_uri": "https://localhost:8080/",
          "height": 550
        }
      },
      "source": [
        "tacke = ucitaj_tacke()\n",
        "print(nadji_nevidljivu(tacke))"
      ],
      "execution_count": 22,
      "outputs": [
        {
          "output_type": "stream",
          "text": [
            "Unesite 7 koordinata kvadra:\n",
            "Unesite prvu koordinatu:415\n",
            "Unesite drugu koordinatu:583\n",
            "\n",
            "Unesite prvu koordinatu:380\n",
            "Unesite drugu koordinatu:260\n",
            "\n",
            "Unesite prvu koordinatu:730\n",
            "Unesite drugu koordinatu:135\n",
            "\n",
            "Unesite prvu koordinatu:670\n",
            "Unesite drugu koordinatu:430\n",
            "\n",
            "Unesite prvu koordinatu:272\n",
            "Unesite drugu koordinatu:386\n",
            "\n",
            "Unesite prvu koordinatu:215\n",
            "Unesite drugu koordinatu:135\n",
            "\n",
            "Unesite prvu koordinatu:483\n",
            "Unesite drugu koordinatu:66\n",
            "\n",
            "(415, 583, 1)\n",
            "(380, 260, 1)\n",
            "(730, 135, 1)\n",
            "(670, 430, 1)\n",
            "(272, 386, 1)\n",
            "(215, 135, 1)\n",
            "(483, 66, 1)\n",
            "[484 297]\n"
          ],
          "name": "stdout"
        }
      ]
    }
  ]
}