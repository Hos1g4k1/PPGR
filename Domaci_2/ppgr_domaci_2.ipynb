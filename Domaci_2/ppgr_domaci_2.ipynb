{
  "nbformat": 4,
  "nbformat_minor": 0,
  "metadata": {
    "colab": {
      "name": "ppgr_domaci_2.ipynb",
      "provenance": [],
      "collapsed_sections": []
    },
    "kernelspec": {
      "name": "python3",
      "display_name": "Python 3"
    }
  },
  "cells": [
    {
      "cell_type": "code",
      "metadata": {
        "id": "io0-JkbwtEVp",
        "outputId": "0e87aa4d-1572-49d8-a7bc-0a7893fcf07b",
        "colab": {
          "base_uri": "https://localhost:8080/"
        }
      },
      "source": [
        "import numpy as np\n",
        "import math as math\n",
        "\n",
        "# Funckija koja racuna teziste skupa tacaka u 2D\n",
        "def izracunaj_teziste(tacke):\n",
        "  n = len(tacke)\n",
        "  C_x = 0\n",
        "  C_y = 0\n",
        "\n",
        "  for tacka in tacke:\n",
        "    C_x += tacka[0]\n",
        "    C_y += tacka[1]\n",
        "\n",
        "  return (C_x/n, C_y/n)\n",
        "\n",
        "def izracunaj_prosek_rastojanja(tacke):\n",
        "  rastojanje = 0\n",
        "  n = len(tacke)\n",
        "  for tacka in tacke:\n",
        "    rastojanje += math.sqrt(tacka[0]**2 + tacka[1]**2)\n",
        "\n",
        "  return rastojanje/n    \n",
        "'''\n",
        " Funckija koja vrsi normalizaciju tako sto prvo svaku tacku u skupu translira za vektor CO\n",
        " gde je C teziste skupa tacaka, a O koordinatni pocetak. Zatim se vrsi skaliranje kooridnata\n",
        " tako da prosecno rastojanje skupa tacaka do koordinatnog pocetka bude sqrt(2). Ovako dobijen\n",
        " skup tacaka se naziva normalizovan.\n",
        "'''\n",
        "def normalizuj(tacke):\n",
        "\n",
        "  (C_x, C_y) = izracunaj_teziste(tacke)\n",
        "  \n",
        "  nova_lista = []\n",
        "  for tacka in tacke:\n",
        "    x = tacka[0] - C_x\n",
        "    y = tacka[1] - C_y\n",
        "    nova_lista.append([x, y])\n",
        "\n",
        "  lam = izracunaj_prosek_rastojanja(nova_lista)\n",
        "\n",
        "  tacke = []\n",
        "\n",
        "  for tacka in nova_lista:\n",
        "    x = (tacka[0]/lam)*math.sqrt(2)\n",
        "    y = (tacka[1]/lam)*math.sqrt(2)\n",
        "    tacke.append([x, y])\n",
        "\n",
        "  red1 = [1, 0, -C_x]\n",
        "  red2 = [0, 1, -C_y]\n",
        "  red3 = [0, 0, 1]\n",
        "  matrica_translacije = [red1, red2, red3]\n",
        "\n",
        "  red1 = [math.sqrt(2)/lam, 0, 0]\n",
        "  red2 = [0, math.sqrt(2)/lam, 0]\n",
        "  red3 = [0, 0, 1]\n",
        "  matrica_homotetije = [red1, red2, red3]\n",
        "\n",
        "  matrica_transformacije = np.matmul(matrica_translacije, matrica_homotetije)\n",
        "\n",
        "  return tacke, matrica_transformacije\n",
        "\n",
        "tacke = [(7, 4), (6, 4), (5, 2), (0, 0), (-5, -5)]\n",
        "tacke, matrica = normalizuj(tacke)\n",
        "print(tacke)\n",
        "print(matrica)\n"
      ],
      "execution_count": 36,
      "outputs": [
        {
          "output_type": "stream",
          "text": [
            "[[1.2480836042156704, 0.8509660937834115], [0.9644282396211997, 0.8509660937834115], [0.6807728750267292, 0.2836553645944705], [-0.7375039479456232, -0.2836553645944705], [-2.1557807709179757, -1.701932187566823]]\n",
            "[[ 0.28365536  0.         -2.6       ]\n",
            " [ 0.          0.28365536 -1.        ]\n",
            " [ 0.          0.          1.        ]]\n"
          ],
          "name": "stdout"
        }
      ]
    },
    {
      "cell_type": "code",
      "metadata": {
        "id": "9DGipJLHScwf",
        "outputId": "2c1665ee-8b5c-480b-abe7-080af9b20ab3",
        "colab": {
          "base_uri": "https://localhost:8080/"
        }
      },
      "source": [
        "def prebaci_u_projektivne(tacke):\n",
        "  lista = []\n",
        "  for tacka in tacke:\n",
        "    x = tacka[0]\n",
        "    y = tacka[1]\n",
        "    lista.append([x, y, 1])\n",
        "  return lista\n",
        "\n",
        "# Funkcija koja formira matricu cije su kolone redom vektori A, B i C\n",
        "\n",
        "def formiraj_matricu(A, B, C):\n",
        "  array = np.array([A, B, C]).T\n",
        "  return array\n",
        "\n",
        "def izvuci_kolone(matrica):\n",
        "  prva_kolona = []\n",
        "  for i in range(3):\n",
        "    prva_kolona.append(matrica[i][0])\n",
        "  druga_kolona = []\n",
        "  for i in range(3):\n",
        "    druga_kolona.append(matrica[i][1])\n",
        "  treca_kolona = []\n",
        "  for i in range(3):\n",
        "    treca_kolona.append(matrica[i][2])\n",
        "\n",
        "  return prva_kolona, druga_kolona, treca_kolona\n",
        "\n",
        "'''\n",
        "  Ova funkcija predstavlja implementaciju naivnog algoritma za odredjivanje \n",
        "  matrice projektivnog preslikavanja za otklanjanje projektivne distorzije.\n",
        "'''\n",
        "\n",
        "def naivni(originali, slike):\n",
        "  if (len(originali) != 4 or len(slike) != 4 or len(originali) != len(slike)):\n",
        "    print(\"Funckija prima tacno 4 tacke!\")\n",
        "    return None\n",
        "\n",
        "  originali = prebaci_u_projektivne(originali)\n",
        "  slike = prebaci_u_projektivne(slike)\n",
        "  \n",
        "  A1, B1, C1, D1 = originali[0], originali[1], originali[2], originali[3]\n",
        "  A2, B2, C2, D2 = slike[0], slike[1], slike[2], slike[3]\n",
        "  D1 = np.array([D1]).T\n",
        "  D2 = np.array([D2]).T\n",
        "\n",
        "  matrica_1 = formiraj_matricu(A1, B1, C1)\n",
        "  matrica_2 = formiraj_matricu(A2, B2, C2)\n",
        "  \n",
        "  # Potrbno je pronaci alfa, beta i gama iz izraza\n",
        "  # D1 = alfa*A1 + beta*B1 + gama*C1\n",
        "  # Slicno vazi i za kolone matrice matrica_2\n",
        "  \n",
        "  X = np.linalg.inv(matrica_1).dot(D1)\n",
        "  Y = np.linalg.inv(matrica_2).dot(D2)\n",
        "\n",
        "  prva_kolona, druga_kolona, treca_kolona = izvuci_kolone(matrica_1)\n",
        "  P1 = formiraj_matricu(X[0]*prva_kolona, X[1]*druga_kolona, X[2]*treca_kolona)\n",
        "\n",
        "  prva_kolona, druga_kolona, treca_kolona = izvuci_kolone(matrica_2)\n",
        "  P2 = formiraj_matricu(Y[0]*prva_kolona, Y[1]*druga_kolona, Y[2]*treca_kolona)\n",
        "\n",
        "  P = np.matmul(P2, np.linalg.inv(P1))\n",
        "  return P\n",
        "\n",
        "print(naivni([[1, 1], [5, 2], [6, 4], [-1, 7]], [[0, 0], [10, 0], [10, 5], [0, 5]]))"
      ],
      "execution_count": 37,
      "outputs": [
        {
          "output_type": "stream",
          "text": [
            "[[ 0.44871795  0.14957265 -0.5982906 ]\n",
            " [-0.19230769  0.76923077 -0.57692308]\n",
            " [-0.07277526  0.07378079  0.41075918]]\n"
          ],
          "name": "stdout"
        }
      ]
    },
    {
      "cell_type": "code",
      "metadata": {
        "id": "iHAZnde7drOo",
        "outputId": "b509da73-b489-4b74-9b24-7d487f5ed5b4",
        "colab": {
          "base_uri": "https://localhost:8080/"
        }
      },
      "source": [
        "'''\n",
        "  Ova funkcija predstavlja implementaciju DLT algoritma za odredjivanje matrice\n",
        "  projektivnog preslikavanja radi otklanjanja projektivne distorzije\n",
        "'''\n",
        "\n",
        "def DLT(originali, slike):\n",
        "  if(len(originali) < 4 or len(slike) < 4 or len(originali) != len(slike)):\n",
        "    print(\"Losi argumenti funkcije!\")\n",
        "    return None\n",
        "\n",
        "  n = len(originali)\n",
        "\n",
        "  originali = prebaci_u_projektivne(originali)\n",
        "  slike = prebaci_u_projektivne(slike)\n",
        "\n",
        "  matrica = np.array([]).reshape(0, 9)\n",
        "\n",
        "  for i in range(0, n):\n",
        "    tacka1 = originali[i]\n",
        "    tacka2 = slike[i]\n",
        "\n",
        "    pomocna = np.array([[0, 0, 0, -tacka2[2]*tacka1[0], -tacka2[2]*tacka1[1], -tacka2[2]*tacka1[2], tacka2[1]*tacka1[0], tacka2[1]*tacka1[1], tacka2[1]*tacka1[2]], \n",
        "                              [tacka2[2]*tacka1[0], tacka2[2]*tacka1[1], tacka2[2]*tacka1[2], 0, 0, 0, -tacka2[0]*tacka1[0], -tacka2[0]*tacka1[1], -tacka2[0]*tacka1[2]]])\n",
        "\n",
        "    matrica = np.concatenate((matrica, pomocna), axis=0)\n",
        "\n",
        "  _, _, v = np.linalg.svd(matrica, full_matrices=True)\n",
        "\n",
        "  v = v[-1]\n",
        "  return np.array([[v[0], v[1], v[2]], [v[3], v[4], v[5]], [v[6], v[7], v[8]]])\n",
        "\n",
        "print(naivni([[1, 1], [5, 2], [6, 4], [-1, 7]], [[0, 0], [10, 0], [10, 5], [0, 5]]))\n",
        "print('-------------------------------------------------------------')\n",
        "DLT([[1, 1], [5, 2], [6, 4], [-1, 7]], [[0, 0], [10, 0], [10, 5], [0, 5]])\n",
        "\n"
      ],
      "execution_count": 43,
      "outputs": [
        {
          "output_type": "stream",
          "text": [
            "[[ 0.44871795  0.14957265 -0.5982906 ]\n",
            " [-0.19230769  0.76923077 -0.57692308]\n",
            " [-0.07277526  0.07378079  0.41075918]]\n",
            "-------------------------------------------------------------\n"
          ],
          "name": "stdout"
        },
        {
          "output_type": "execute_result",
          "data": {
            "text/plain": [
              "array([[ 0.3418787 ,  0.11395957, -0.45583826],\n",
              "       [-0.14651944,  0.58607777, -0.43955833],\n",
              "       [-0.05544755,  0.05621367,  0.31295787]])"
            ]
          },
          "metadata": {
            "tags": []
          },
          "execution_count": 43
        }
      ]
    },
    {
      "cell_type": "code",
      "metadata": {
        "id": "CeQmknnJsmH9",
        "outputId": "923996b6-40ee-46c6-b2b4-d9b1bdf9ae51",
        "colab": {
          "base_uri": "https://localhost:8080/"
        }
      },
      "source": [
        "'''\n",
        "  Ova funkcija predstavlja implementaciju unapredjenog DLT algoritma za odredjivanje matrice\n",
        "  projektivnog preslikavanja radi otklanjanja projektivne distorzije\n",
        "'''\n",
        "\n",
        "def DLT_unapredjeni(originali, slike):\n",
        "  originali, matrica1 = normalizuj(originali)\n",
        "  slike, matrica2 = normalizuj(slike)\n",
        "\n",
        "  matrica = DLT(originali, slike)\n",
        "\n",
        "  return np.matmul(np.linalg.inv(matrica2), matrica, matrica1)\n",
        "\n",
        "DLT_unapredjeni([[1, 1], [5, 2], [6, 4], [-1, 7]], [[0, 0], [10, 0], [10, 5], [0, 5]])"
      ],
      "execution_count": 44,
      "outputs": [
        {
          "output_type": "execute_result",
          "data": {
            "text/plain": [
              "array([[-1.74185853,  3.448597  ,  8.97839762],\n",
              "       [-2.03077058,  3.65736736,  5.60788901],\n",
              "       [-0.20257862,  0.20537763,  0.52089176]])"
            ]
          },
          "metadata": {
            "tags": []
          },
          "execution_count": 44
        }
      ]
    }
  ]
}