{
  "nbformat": 4,
  "nbformat_minor": 0,
  "metadata": {
    "colab": {
      "name": "ppgr_domaci_2.ipynb",
      "provenance": []
    },
    "kernelspec": {
      "name": "python3",
      "display_name": "Python 3"
    }
  },
  "cells": [
    {
      "cell_type": "code",
      "metadata": {
        "id": "io0-JkbwtEVp",
        "outputId": "70c9a42e-a4dc-420b-9add-3b2802925afd",
        "colab": {
          "base_uri": "https://localhost:8080/",
          "height": 54
        }
      },
      "source": [
        "import numpy as np\n",
        "import math as math\n",
        "\n",
        "# Funckija koja racuna teziste skupa tacaka u 2D\n",
        "def izracunaj_teziste(tacke):\n",
        "  n = len(tacke)\n",
        "  C_x = 0\n",
        "  C_y = 0\n",
        "\n",
        "  for tacka in tacke:\n",
        "    C_x += tacka[0]\n",
        "    C_y += tacka[1]\n",
        "\n",
        "  return (C_x/n, C_y/n)\n",
        "\n",
        "def izracunaj_prosek_rastojanja(tacke):\n",
        "  rastojanje = 0\n",
        "  n = len(tacke)\n",
        "  for tacka in tacke:\n",
        "    rastojanje += math.sqrt(tacka[0]**2 + tacka[1]**2)\n",
        "\n",
        "  return rastojanje/n    \n",
        "'''\n",
        " Funckija koja vrsi normalizaciju tako sto prvo svaku tacku u skupu translira za vektor CO\n",
        " gde je C teziste skupa tacaka, a O koordinatni pocetak. Zatim se vrsi skaliranje kooridnata\n",
        " tako da prosecno rastojanje skupa tacaka do koordinatnog pocetka bude sqrt(2). Ovako dobijen\n",
        " skup tacaka se naziva normalizovan.\n",
        "'''\n",
        "def normalizuj(tacke):\n",
        "\n",
        "  (C_x, C_y) = izracunaj_teziste(tacke)\n",
        "  \n",
        "  nova_lista = []\n",
        "  for tacka in tacke:\n",
        "    x = tacka[0] - C_x\n",
        "    y = tacka[1] - C_y\n",
        "    nova_lista.append([x, y])\n",
        "\n",
        "  lam = izracunaj_prosek_rastojanja(nova_lista)\n",
        "\n",
        "  tacke = []\n",
        "\n",
        "  for tacka in nova_lista:\n",
        "    x = (tacka[0]/lam)*math.sqrt(2)\n",
        "    y = (tacka[1]/lam)*math.sqrt(2)\n",
        "    tacke.append([x, y])\n",
        "\n",
        "  return tacke\n",
        "\n",
        "tacke = [(7, 4), (6, 4), (5, 2), (0, 0), (-5, -5)]\n",
        "tacke = normalizuj(tacke)\n",
        "print(tacke)\n"
      ],
      "execution_count": 2,
      "outputs": [
        {
          "output_type": "stream",
          "text": [
            "[[1.2480836042156704, 0.8509660937834115], [0.9644282396211997, 0.8509660937834115], [0.6807728750267292, 0.2836553645944705], [-0.7375039479456232, -0.2836553645944705], [-2.1557807709179757, -1.701932187566823]]\n"
          ],
          "name": "stdout"
        }
      ]
    },
    {
      "cell_type": "code",
      "metadata": {
        "id": "9DGipJLHScwf",
        "outputId": "55c2ad1a-986e-47cc-d3bf-9dcc6e7be532",
        "colab": {
          "base_uri": "https://localhost:8080/",
          "height": 70
        }
      },
      "source": [
        "def prebaci_u_projektivne(tacke):\n",
        "  lista = []\n",
        "  for tacka in tacke:\n",
        "    x = tacka[0]\n",
        "    y = tacka[1]\n",
        "    lista.append([x, y, 1])\n",
        "  return lista\n",
        "\n",
        "# Funkcija koja formira matricu cije su kolone redom vektori A, B i C\n",
        "\n",
        "def formiraj_matricu(A, B, C):\n",
        "  array = np.array([A, B, C]).T\n",
        "  return array\n",
        "\n",
        "def izvuci_kolone(matrica):\n",
        "  prva_kolona = []\n",
        "  for i in range(3):\n",
        "    prva_kolona.append(matrica[i][0])\n",
        "  druga_kolona = []\n",
        "  for i in range(3):\n",
        "    druga_kolona.append(matrica[i][1])\n",
        "  treca_kolona = []\n",
        "  for i in range(3):\n",
        "    treca_kolona.append(matrica[i][2])\n",
        "\n",
        "  return prva_kolona, druga_kolona, treca_kolona\n",
        "\n",
        "'''\n",
        "  Ova funkcija predstavlja implementaciju naivnog algoritma za odredjivanje \n",
        "  matrice projektivnog preslikavanja za otklanjanje projektivne distorzije.\n",
        "'''\n",
        "\n",
        "def naivni(originali, slike):\n",
        "  if (len(originali) != 4 or len(slike) != 4 or len(originali) != len(slike)):\n",
        "    print(\"Funckija prima tacno 4 tacke!\")\n",
        "    return None\n",
        "\n",
        "  originali = prebaci_u_projektivne(originali)\n",
        "  slike = prebaci_u_projektivne(slike)\n",
        "  \n",
        "  A1, B1, C1, D1 = originali[0], originali[1], originali[2], originali[3]\n",
        "  A2, B2, C2, D2 = slike[0], slike[1], slike[2], slike[3]\n",
        "  D1 = np.array([D1]).T\n",
        "  D2 = np.array([D2]).T\n",
        "\n",
        "  matrica_1 = formiraj_matricu(A1, B1, C1)\n",
        "  matrica_2 = formiraj_matricu(A2, B2, C2)\n",
        "  \n",
        "  # Potrbno je pronaci alfa, beta i gama iz izraza\n",
        "  # D1 = alfa*A1 + beta*B1 + gama*C1\n",
        "  # Slicno vazi i za kolone matrice matrica_2\n",
        "  \n",
        "  X = np.linalg.inv(matrica_1).dot(D1)\n",
        "  Y = np.linalg.inv(matrica_2).dot(D2)\n",
        "\n",
        "  prva_kolona, druga_kolona, treca_kolona = izvuci_kolone(matrica_1)\n",
        "  P1 = formiraj_matricu(X[0]*prva_kolona, X[1]*druga_kolona, X[2]*treca_kolona)\n",
        "\n",
        "  prva_kolona, druga_kolona, treca_kolona = izvuci_kolone(matrica_2)\n",
        "  P2 = formiraj_matricu(Y[0]*prva_kolona, Y[1]*druga_kolona, Y[2]*treca_kolona)\n",
        "\n",
        "  P = np.matmul(P2, np.linalg.inv(P1))\n",
        "  return P\n",
        "\n",
        "print(naivni([[-3, -1], [3, -1], [1, 1], [-1, 1]], [[-2, -1], [2, -1], [2, 1], [-2, 1]]))"
      ],
      "execution_count": 29,
      "outputs": [
        {
          "output_type": "stream",
          "text": [
            "[[ 2.  0.  0.]\n",
            " [ 0.  2. -1.]\n",
            " [ 0. -1.  2.]]\n"
          ],
          "name": "stdout"
        }
      ]
    },
    {
      "cell_type": "code",
      "metadata": {
        "id": "iHAZnde7drOo"
      },
      "source": [
        "'''\n",
        "  Ova funkcija predstavlja implementaciju DLT algoritma za odredjivanje matrice\n",
        "  projektivnog preslikavanja za otklanjanja projektivne distorzije\n",
        "'''\n",
        "\n",
        "def DLT(originali, slike):\n",
        "  if(len(originali) < 4 or len(slike) < 4 or len(originali) != len(slike)):\n",
        "    print(\"Losi argumenti funkcije!\")\n",
        "    return None\n",
        "\n",
        "  n = len(originali)\n",
        "\n",
        "  originali = prebaci_u_projektivne(originali)\n",
        "  slike = prebaci_u_projektivne(slike)\n",
        "  \n",
        "\n"
      ],
      "execution_count": null,
      "outputs": []
    }
  ]
}