{
  "nbformat": 4,
  "nbformat_minor": 0,
  "metadata": {
    "colab": {
      "name": "ppgr_domaci_2.ipynb",
      "provenance": []
    },
    "kernelspec": {
      "name": "python3",
      "display_name": "Python 3"
    }
  },
  "cells": [
    {
      "cell_type": "code",
      "metadata": {
        "id": "io0-JkbwtEVp",
        "outputId": "a65a42fe-ad32-47ac-eeea-e94093629711",
        "colab": {
          "base_uri": "https://localhost:8080/",
          "height": 52
        }
      },
      "source": [
        "import numpy as np\n",
        "import math as math\n",
        "\n",
        "def izracunaj_teziste(tacke):\n",
        "  n = len(tacke)\n",
        "  C_x = 0\n",
        "  C_y = 0\n",
        "\n",
        "  for tacka in tacke:\n",
        "    C_x += tacka[0]\n",
        "    C_y += tacka[1]\n",
        "\n",
        "  return (C_x/n, C_y/n)\n",
        "\n",
        "def izracunaj_prosek_rastojanja(tacke):\n",
        "  rastojanje = 0\n",
        "  n = len(tacke)\n",
        "  for tacka in tacke:\n",
        "    rastojanje += math.sqrt(tacka[0]**2 + tacka[1]**2)\n",
        "\n",
        "  return rastojanje/n    \n",
        "\n",
        "def normalizuj(tacke):\n",
        "\n",
        "  (C_x, C_y) = izracunaj_teziste(tacke)\n",
        "  \n",
        "  nova_lista = []\n",
        "  for tacka in tacke:\n",
        "    x = tacka[0] - C_x\n",
        "    y = tacka[1] - C_y\n",
        "    nova_lista.append((x, y))\n",
        "\n",
        "  lam = izracunaj_prosek_rastojanja(nova_lista)\n",
        "\n",
        "  tacke = []\n",
        "\n",
        "  for tacka in nova_lista:\n",
        "    x = (tacka[0]/lam)*math.sqrt(2)\n",
        "    y = (tacka[1]/lam)*math.sqrt(2)\n",
        "    tacke.append((x, y))\n",
        "\n",
        "  return tacke\n",
        "\n",
        "tacke = [(7, 4), (6, 4), (5, 2), (0, 0), (-5, -5)]\n",
        "tacke = normalizuj(tacke)\n",
        "print(tacke)\n"
      ],
      "execution_count": 6,
      "outputs": [
        {
          "output_type": "stream",
          "text": [
            "(2.6, 1.0)\n",
            "[(1.2480836042156704, 0.8509660937834115), (0.9644282396211997, 0.8509660937834115), (0.6807728750267292, 0.2836553645944705), (-0.7375039479456232, -0.2836553645944705), (-2.1557807709179757, -1.701932187566823)]\n"
          ],
          "name": "stdout"
        }
      ]
    }
  ]
}