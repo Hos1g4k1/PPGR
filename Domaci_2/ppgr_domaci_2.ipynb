{
  "nbformat": 4,
  "nbformat_minor": 0,
  "metadata": {
    "colab": {
      "name": "ppgr_domaci_2.ipynb",
      "provenance": [],
      "collapsed_sections": []
    },
    "kernelspec": {
      "name": "python3",
      "display_name": "Python 3"
    }
  },
  "cells": [
    {
      "cell_type": "code",
      "metadata": {
        "id": "io0-JkbwtEVp",
        "outputId": "8ee32d52-e627-49d1-fe61-9de80622513b",
        "colab": {
          "base_uri": "https://localhost:8080/"
        }
      },
      "source": [
        "import numpy as np\n",
        "import math as math\n",
        "import numpy.linalg as LA\n",
        "\n",
        "# Funckija koja racuna teziste skupa tacaka u 2D\n",
        "def izracunaj_teziste(tacke):\n",
        "  n = len(tacke)\n",
        "  C_x = 0\n",
        "  C_y = 0\n",
        "\n",
        "  for tacka in tacke:\n",
        "    C_x += tacka[0]\n",
        "    C_y += tacka[1]\n",
        "\n",
        "  return (C_x/n, C_y/n)\n",
        "\n",
        "def izracunaj_prosek_rastojanja(tacke):\n",
        "  rastojanje = 0\n",
        "  n = len(tacke)\n",
        "  for tacka in tacke:\n",
        "    rastojanje += math.sqrt(tacka[0]**2 + tacka[1]**2)\n",
        "\n",
        "  return rastojanje/n    \n",
        "'''\n",
        " Funckija koja vrsi normalizaciju tako sto prvo svaku tacku u skupu translira za vektor CO\n",
        " gde je C teziste skupa tacaka, a O koordinatni pocetak. Zatim se vrsi skaliranje kooridnata\n",
        " tako da prosecno rastojanje skupa tacaka do koordinatnog pocetka bude sqrt(2). Ovako dobijen\n",
        " skup tacaka se naziva normalizovan.\n",
        "'''\n",
        "def normalizuj(tacke):\n",
        "\n",
        "  (C_x, C_y) = izracunaj_teziste(tacke)\n",
        "\n",
        "  nova_lista = []\n",
        "  for tacka in tacke:\n",
        "    x = tacka[0] - C_x\n",
        "    y = tacka[1] - C_y\n",
        "    nova_lista.append([x, y])\n",
        "\n",
        "  lam = izracunaj_prosek_rastojanja(nova_lista)\n",
        "  tacke = []\n",
        "\n",
        "  for tacka in nova_lista:\n",
        "    x = (tacka[0]/lam)*math.sqrt(2)\n",
        "    y = (tacka[1]/lam)*math.sqrt(2)\n",
        "    tacke.append([x, y])\n",
        "\n",
        "  matrica_translacije = np.array([[1, 0, -C_x], [0, 1, -C_y], [0, 0, 1]])\n",
        "  matrica_homotetije = np.array([[math.sqrt(2)/lam, 0, 0], [0, math.sqrt(2)/lam, 0], [0, 0, 1]])\n",
        "  matrica_transformacije = matrica_homotetije @ matrica_translacije\n",
        "\n",
        "  return tacke, matrica_transformacije\n",
        "\n",
        "tacke = [[1, 1], [5, 2], [6, 4], [-1, 7]]\n",
        "tacke, matrica = normalizuj(tacke)\n",
        "print(tacke)\n",
        "print(matrica)\n"
      ],
      "execution_count": 66,
      "outputs": [
        {
          "output_type": "stream",
          "text": [
            "[[-0.698445552349397, -0.9977793604991386], [0.8980014244492246, -0.5986676162994831], [1.2971131686488802, 0.19955587209982772], [-1.4966690407487078, 1.396891104698794]]\n",
            "[[ 0.39911174  0.         -1.0975573 ]\n",
            " [ 0.          0.39911174 -1.3968911 ]\n",
            " [ 0.          0.          1.        ]]\n"
          ],
          "name": "stdout"
        }
      ]
    },
    {
      "cell_type": "code",
      "metadata": {
        "id": "9DGipJLHScwf",
        "outputId": "599ea447-23d1-4e01-8c37-24250ab70f15",
        "colab": {
          "base_uri": "https://localhost:8080/"
        }
      },
      "source": [
        "def prebaci_u_projektivne(tacke):\n",
        "  lista = []\n",
        "  for tacka in tacke:\n",
        "    x = tacka[0]\n",
        "    y = tacka[1]\n",
        "    lista.append([x, y, 1])\n",
        "  return lista\n",
        "\n",
        "def prebaci_u_afine(tacke):\n",
        "  lista = []\n",
        "  for tacka in tacke:\n",
        "    x = tacka[0]/tacka[2]\n",
        "    y = tacka[1]/tacka[2]\n",
        "    lista.append([x, y])\n",
        "  return lista\n",
        "\n",
        "# Funkcija koja formira matricu cije su kolone redom vektori A, B i C\n",
        "\n",
        "def formiraj_matricu(A, B, C):\n",
        "  array = np.array([A, B, C]).T\n",
        "  return array\n",
        "\n",
        "def izvuci_kolone(matrica):\n",
        "  prva_kolona = []\n",
        "  for i in range(3):\n",
        "    prva_kolona.append(matrica[i][0])\n",
        "  druga_kolona = []\n",
        "  for i in range(3):\n",
        "    druga_kolona.append(matrica[i][1])\n",
        "  treca_kolona = []\n",
        "  for i in range(3):\n",
        "    treca_kolona.append(matrica[i][2])\n",
        "\n",
        "  return prva_kolona, druga_kolona, treca_kolona\n",
        "\n",
        "'''\n",
        "  Ova funkcija predstavlja implementaciju naivnog algoritma za odredjivanje \n",
        "  matrice projektivnog preslikavanja za otklanjanje projektivne distorzije.\n",
        "'''\n",
        "\n",
        "def naivni(originali, slike):\n",
        "  if (len(originali) != 4 or len(slike) != 4 or len(originali) != len(slike)):\n",
        "    print(\"Funckija prima tacno 4 tacke!\")\n",
        "    return None\n",
        "\n",
        "  originali = prebaci_u_projektivne(originali)\n",
        "  slike = prebaci_u_projektivne(slike)\n",
        "  \n",
        "  A1, B1, C1, D1 = originali[0], originali[1], originali[2], originali[3]\n",
        "  A2, B2, C2, D2 = slike[0], slike[1], slike[2], slike[3]\n",
        "  D1 = np.array([D1]).T\n",
        "  D2 = np.array([D2]).T\n",
        "\n",
        "  matrica_1 = formiraj_matricu(A1, B1, C1)\n",
        "  matrica_2 = formiraj_matricu(A2, B2, C2)\n",
        "  \n",
        "  # Potrbno je pronaci alfa, beta i gama iz izraza\n",
        "  # D1 = alfa*A1 + beta*B1 + gama*C1\n",
        "  # Slicno vazi i za kolone matrice matrica_2\n",
        "  \n",
        "  X = np.linalg.inv(matrica_1).dot(D1)\n",
        "  Y = np.linalg.inv(matrica_2).dot(D2)\n",
        "\n",
        "  prva_kolona, druga_kolona, treca_kolona = izvuci_kolone(matrica_1)\n",
        "  P1 = formiraj_matricu(X[0]*prva_kolona, X[1]*druga_kolona, X[2]*treca_kolona)\n",
        "\n",
        "  prva_kolona, druga_kolona, treca_kolona = izvuci_kolone(matrica_2)\n",
        "  P2 = formiraj_matricu(Y[0]*prva_kolona, Y[1]*druga_kolona, Y[2]*treca_kolona)\n",
        "\n",
        "  P = np.matmul(P2, LA.inv(P1))\n",
        "  return P\n",
        "\n",
        "print(naivni([[1, 1], [5, 2], [6, 4], [-1, 7]], [[0, 0], [10, 0], [10, 5], [0, 5]]))"
      ],
      "execution_count": 67,
      "outputs": [
        {
          "output_type": "stream",
          "text": [
            "[[ 0.44871795  0.14957265 -0.5982906 ]\n",
            " [-0.19230769  0.76923077 -0.57692308]\n",
            " [-0.07277526  0.07378079  0.41075918]]\n"
          ],
          "name": "stdout"
        }
      ]
    },
    {
      "cell_type": "code",
      "metadata": {
        "id": "iHAZnde7drOo",
        "outputId": "bb14fbaf-a761-4b8c-c5f9-6db4eade5a30",
        "colab": {
          "base_uri": "https://localhost:8080/"
        }
      },
      "source": [
        "'''\n",
        "  Ova funkcija predstavlja implementaciju DLT algoritma za odredjivanje matrice\n",
        "  projektivnog preslikavanja radi otklanjanja projektivne distorzije\n",
        "'''\n",
        "\n",
        "def DLT(originali, slike):\n",
        "  if(len(originali) < 4 or len(slike) < 4 or len(originali) != len(slike)):\n",
        "    print(\"Losi argumenti funkcije!\")\n",
        "    return None\n",
        "\n",
        "  n = len(originali)\n",
        "\n",
        "  originali = prebaci_u_projektivne(originali)\n",
        "  slike = prebaci_u_projektivne(slike)\n",
        "\n",
        "  matrica = np.array([]).reshape(0, 9)\n",
        "\n",
        "  for i in range(0, n):\n",
        "    tacka1 = originali[i]\n",
        "    tacka2 = slike[i]\n",
        "\n",
        "    pomocna = np.array([[0, 0, 0, -tacka2[2]*tacka1[0], -tacka2[2]*tacka1[1], -tacka2[2]*tacka1[2], tacka2[1]*tacka1[0], tacka2[1]*tacka1[1], tacka2[1]*tacka1[2]], \n",
        "                              [tacka2[2]*tacka1[0], tacka2[2]*tacka1[1], tacka2[2]*tacka1[2], 0, 0, 0, -tacka2[0]*tacka1[0], -tacka2[0]*tacka1[1], -tacka2[0]*tacka1[2]]])\n",
        "\n",
        "    matrica = np.concatenate((matrica, pomocna), axis=0)\n",
        "\n",
        "  _, _, v = np.linalg.svd(matrica, full_matrices=True)\n",
        "\n",
        "  v = v[-1]\n",
        "  return np.array([[v[0], v[1], v[2]], [v[3], v[4], v[5]], [v[6], v[7], v[8]]])\n",
        "\n",
        "print(naivni([[1, 1], [5, 2], [6, 4], [-1, 7]], [[0, 0], [10, 0], [10, 5], [0, 5]]))\n",
        "print('-------------------------------------------------------------')\n",
        "DLT([[1, 1], [5, 2], [6, 4], [-1, 7]], [[0, 0], [10, 0], [10, 5], [0, 5]])\n",
        "\n"
      ],
      "execution_count": 23,
      "outputs": [
        {
          "output_type": "stream",
          "text": [
            "[[ 0.44871795  0.14957265 -0.5982906 ]\n",
            " [-0.19230769  0.76923077 -0.57692308]\n",
            " [-0.07277526  0.07378079  0.41075918]]\n",
            "-------------------------------------------------------------\n"
          ],
          "name": "stdout"
        },
        {
          "output_type": "execute_result",
          "data": {
            "text/plain": [
              "array([[ 0.3418787 ,  0.11395957, -0.45583826],\n",
              "       [-0.14651944,  0.58607777, -0.43955833],\n",
              "       [-0.05544755,  0.05621367,  0.31295787]])"
            ]
          },
          "metadata": {
            "tags": []
          },
          "execution_count": 23
        }
      ]
    },
    {
      "cell_type": "code",
      "metadata": {
        "id": "CeQmknnJsmH9",
        "outputId": "14b04fa0-0b6f-461c-e980-59e4e6a8949d",
        "colab": {
          "base_uri": "https://localhost:8080/"
        }
      },
      "source": [
        "'''\n",
        "  Ova funkcija predstavlja implementaciju unapredjenog DLT algoritma za odredjivanje \n",
        "  matrice projektivnog preslikavanja radi otklanjanja projektivne distorzije\n",
        "'''\n",
        "\n",
        "def DLT_unapredjeni(originali, slike):\n",
        "  originali, matrica1 = normalizuj(originali)\n",
        "  slike, matrica2 = normalizuj(slike)\n",
        "\n",
        "  matrica = DLT(originali, slike)\n",
        "\n",
        "  return np.linalg.inv(matrica2) @ matrica @ matrica1\n",
        "\n",
        "print(DLT_unapredjeni([[1, 1], [5, 2], [6, 4], [-1, 7]], [[0, 0], [10, 0], [10, 5], [0, 5]]))\n",
        "print()\n",
        "print(DLT_unapredjeni([[3, 2], [4, -2], [6, -3], [9, 4]], [[5, -2], [15, 8], [10, 13], [0, 3]]))"
      ],
      "execution_count": 61,
      "outputs": [
        {
          "output_type": "stream",
          "text": [
            "[[ 0.49851447  0.16617149 -0.66468596]\n",
            " [-0.21364906  0.85459623 -0.64094717]\n",
            " [-0.08085151  0.08196863  0.45634321]]\n",
            "\n",
            "[[-0.27858161 -0.30790599  3.7388585 ]\n",
            " [ 0.85683047 -0.44656842 -2.59227523]\n",
            " [ 0.08196863  0.08085151  0.04985145]]\n"
          ],
          "name": "stdout"
        }
      ]
    },
    {
      "cell_type": "code",
      "metadata": {
        "id": "Ic_8Ac6iglk0",
        "outputId": "13d8e30b-865f-457f-99ca-4f96f27c1074",
        "colab": {
          "base_uri": "https://localhost:8080/"
        }
      },
      "source": [
        "'''\n",
        "  U ovom delu koda uporedicemo rad DLT i unapredjenog DLT algoritma i pokazati\n",
        "  da je unapredjeni DLT algoritam otporan na promenu koordinata\n",
        "'''\n",
        "\n",
        "originali = np.array([[-5,0,1], [-6,0.5,1], [-5,3,1], [-4,2,1], [-2,1.5,1], [-4,0,1]])\n",
        "slike = np.array([[3,0,1], [1,1.5,1], [2.7,2.5,1], [6,2,1], [6.5,0.5,1], [4,0,1]])\n",
        "\n",
        "#originali = np.array([[1, 1], [5, 2], [6, 4], [-1, 7]])\n",
        "#slike = np.array([[0, 0], [10, 0], [10, 5], [0, 5]])\n",
        "\n",
        "originali_proj = np.array(prebaci_u_projektivne(originali))\n",
        "slike_proj = np.array(prebaci_u_projektivne(slike))\n",
        "\n",
        "matricaDLT = DLT(originali, slike)\n",
        "matricaDLTUn = DLT_unapredjeni(originali, slike)\n",
        "\n",
        "# Skaliranje matrica radi uporedjivanja\n",
        "matricaDLT = matricaDLT / (matricaDLTUn[0][0] / matricaDLT[0][0])\n",
        "matricaDLTUn = matricaDLTUn / (matricaDLTUn[0][0] / matricaDLT[0][0])\n",
        "\n",
        "print(\"Matrica transformacije dobijena DLT algoritmom:\")\n",
        "print(matricaDLT)\n",
        "print()\n",
        "print(\"Matrica transformacije dobijena unapredjenim DLT algoritmom:\")\n",
        "print(matricaDLTUn)\n",
        "print()\n",
        "\n",
        "# Martrice transformacije radi menjanja koordinata\n",
        "transf_orig = np.array([[0, 1, 2], [-1, 0, 3], [0, 0, 1]])\n",
        "transf_slik = np.array([[1, -1, 5], [1, 1, -2], [0, 0, 1]])\n",
        "\n",
        "# Mapiranje tacaka u novi koordinatni sistem\n",
        "originali = np.array([*map(lambda x: transf_orig @ x.T, originali_proj)])\n",
        "slike = np.array([*map(lambda x: transf_slik @ x.T, slike_proj)])\n",
        "\n",
        "originali = prebaci_u_afine(originali)\n",
        "slike = prebaci_u_afine(slike)\n",
        "\n",
        "matrica_ = np.array(DLT_unapredjeni(originali, slike))\n",
        "print(\"Matrica dobijenja unapredjenim DLT algoritmom sa izmenjenim koordinatama:\")\n",
        "print(matrica_)\n",
        "print()\n",
        "print(\"Matrica dobijena kada se vratimo u stare koordinate:\")\n",
        "print(LA.inv(transf_slik)@matrica_ @ transf_orig)\n"
      ],
      "execution_count": 72,
      "outputs": [
        {
          "output_type": "stream",
          "text": [
            "Matrica transformacije dobijena DLT algoritmom:\n",
            "[[-0.01669762  0.0063853  -0.10466085]\n",
            " [-0.00035207 -0.00079422 -0.00390918]\n",
            " [-0.00198311  0.00219739 -0.01675162]]\n",
            "\n",
            "Matrica transformacije dobijena unapredjenim DLT algoritmom:\n",
            "[[-0.01669762  0.0055689  -0.10613521]\n",
            " [ 0.00030767 -0.00187771 -0.00064518]\n",
            " [-0.0017455   0.00207207 -0.01631189]]\n",
            "\n",
            "Matrica dobijenja unapredjenim DLT algoritmom sa izmenjenim koordinatama:\n",
            "[[-1.53788019 -2.22238885 25.89727977]\n",
            " [ 0.03911862 -1.11400472  9.66824144]\n",
            " [-0.17895211 -0.15074866  2.21891157]]\n",
            "\n",
            "Matrica dobijena kada se vratimo u stare koordinate:\n",
            "[[ 1.44207379 -0.48095261  9.16626664]\n",
            " [-0.02657175  0.16216701  0.05572057]\n",
            " [ 0.15074866 -0.17895211  1.40876135]]\n"
          ],
          "name": "stdout"
        }
      ]
    },
    {
      "cell_type": "code",
      "metadata": {
        "id": "8OayF-uA0hxh"
      },
      "source": [
        ""
      ],
      "execution_count": null,
      "outputs": []
    }
  ]
}