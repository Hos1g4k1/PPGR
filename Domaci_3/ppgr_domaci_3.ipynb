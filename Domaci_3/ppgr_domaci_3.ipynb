{
  "nbformat": 4,
  "nbformat_minor": 0,
  "metadata": {
    "colab": {
      "name": "ppgr_domaci_3.ipynb",
      "provenance": [],
      "collapsed_sections": []
    },
    "kernelspec": {
      "name": "python3",
      "display_name": "Python 3"
    }
  },
  "cells": [
    {
      "cell_type": "code",
      "metadata": {
        "colab": {
          "base_uri": "https://localhost:8080/"
        },
        "id": "TBwU4H0hO04J",
        "outputId": "49f2d914-172e-48a6-8e7c-1638f74c43a7"
      },
      "source": [
        "import numpy as np\n",
        "from numpy import linalg as LA\n",
        "import math\n",
        "'''\n",
        "  Funkcija koja vrsi noriranje datog vektora\n",
        "'''\n",
        "\n",
        "def vector_norm(p):\n",
        "  sum = 0\n",
        "  for x in p:\n",
        "    sum += x**2\n",
        "  return math.sqrt(sum)\n",
        "\n",
        "def normalize(p):\n",
        "  norm_ = vector_norm(p)\n",
        "  return p/norm_\n",
        "'''\n",
        "  Funkcija prima matricu A koja je ortoganalna i vazi det(A) = 1\n",
        "  i vraca jedinicni vektor p i ugao fi iz [0, pi] takav da vazi\n",
        "  da je matrica A matrica rotacije oko prave p za ugao fi\n",
        "'''\n",
        "def AxisAngle(A):\n",
        "  if round(LA.det(A)) != 1:\n",
        "    print(\"Determinanta matrice A je razlicita od 1!\")\n",
        "    return\n",
        "  '''\n",
        "  TODO\n",
        "  if A @ A.T == np.array([[1, 0, 0], [0, 1, 0], [0, 0, 1]]):\n",
        "    print(\"Matrica nije ortogonalna!\")\n",
        "    return\n",
        "  '''\n",
        "  \n",
        "  B = A - np.eye(3)\n",
        "\n",
        "  first = B[0]\n",
        "  second = B[1]\n",
        "  third = B[2]\n",
        "\n",
        "  p = np.cross(first, second)\n",
        "  if not np.any(p):\n",
        "    p = np.cross(first, third)\n",
        "    if not np.any(p):\n",
        "      p = np.cross(second, third)\n",
        "  p = p/LA.norm(p) # Trazeni jedinicni vektor p\n",
        "\n",
        "  u = first # Vektor u je normalan na vektor p\n",
        "  #print(u) \n",
        "  if not np.any(u):\n",
        "    u = second\n",
        "    if not np.any(u):\n",
        "      u = third\n",
        "  u = u/LA.norm(u)\n",
        "  #print(u)\n",
        "  \n",
        "  u_bar = A @ u\n",
        "  u_bar = normalize(u_bar)\n",
        "  phi = np.arccos(u @ u_bar)\n",
        "\n",
        "  mesoviti = LA.det(np.array([u, u_bar, p]))\n",
        "  if mesoviti < 0:\n",
        "    p = -p\n",
        "\n",
        "  return (p, phi)\n",
        "\n",
        "p, phi = AxisAngle(np.array([[1/9, -8/9, -4/9], [4/9, 4/9, -7/9], [8/9, -1/9, 4/9]]))\n",
        "#p, phi = AxisAngle(np.array([[1/9, 8/9, -4/9], [-4/9, 4/9, 7/9], [8/9, 1/9, 4/9]]))\n",
        "\n",
        "print(f\"Jedinicni vektor oko kog se rotira: {p}\")\n",
        "print(f\"Ugao za koji se rotira: {phi}\")"
      ],
      "execution_count": 63,
      "outputs": [
        {
          "output_type": "stream",
          "text": [
            "Jedinicni vektor oko kog se rotira: [ 0.33333333 -0.66666667  0.66666667]\n",
            "Ugao za koji se rotira: 1.5707963267948966\n"
          ],
          "name": "stdout"
        }
      ]
    },
    {
      "cell_type": "code",
      "metadata": {
        "colab": {
          "base_uri": "https://localhost:8080/"
        },
        "id": "OVnRmo69P-C5",
        "outputId": "fb22ba34-c025-4edc-8ee5-3085fcdee353"
      },
      "source": [
        "def izmnozi(p):\n",
        "  p_t = np.array([[p[0]], [p[1]], [p[2]]])\n",
        "  return np.array([p_t[0]*p, p_t[1]*p, p_t[2]*p])\n",
        "'''\n",
        "  Funkcija koja racuna matricu rotacije oko prave p za ugao fi\n",
        "  Kao ulaz prima vektor kolonu oko kog se vrsi rotacija i ugao rotacije\n",
        "'''\n",
        "\n",
        "def Rodrigez(p, phi):\n",
        "  p = normalize(p)\n",
        "  p_pt = izmnozi(p)\n",
        "  p_x = np.array([[0, -p[2], p[1]], [p[2], 0, -p[0]], [-p[1], p[0], 0]])\n",
        "\n",
        "  return p_pt + math.cos(phi)*(np.eye(3) - p_pt) + math.sin(phi)*p_x\n",
        "\n",
        "p, phi = AxisAngle(np.array([[1/9, 8/9, -4/9], [-4/9, 4/9, 7/9], [8/9, 1/9, 4/9]]))\n",
        "\n",
        "#A = Rodrigez(np.array([1, 0, 0]), 0)\n",
        "A = Rodrigez(np.array([0.25056281, 0.93511313, 0.25056281]),  1.3696838321801164)\n",
        "print(\"Matrica rotacije dobijena Rodrigezovom formulom: \")\n",
        "print()\n",
        "print(A)"
      ],
      "execution_count": 64,
      "outputs": [
        {
          "output_type": "stream",
          "text": [
            "Matrica rotacije dobijena Rodrigezovom formulom: \n",
            "\n",
            "[[ 0.25       -0.0580127   0.96650635]\n",
            " [ 0.4330127   0.89951905 -0.0580127 ]\n",
            " [-0.8660254   0.4330127   0.25      ]]\n"
          ],
          "name": "stdout"
        }
      ]
    },
    {
      "cell_type": "code",
      "metadata": {
        "colab": {
          "base_uri": "https://localhost:8080/"
        },
        "id": "sT2_d98rdwHa",
        "outputId": "331875f6-4114-467f-e824-6399158a412a"
      },
      "source": [
        "'''\n",
        "  Funkcija prima ortogonalnu matricu A i vazi det(A) = 1\n",
        "  i vraca Ojlerove uglove phi, tetha, psi redom\n",
        "'''\n",
        "def A2Euler(A):\n",
        "  if round(LA.det(A)) != 1:\n",
        "    print(\"Determinanta matrice A je razlicita od 1!\")\n",
        "    return\n",
        "  '''\n",
        "  TODO\n",
        "  if A @ A.T == np.array([[1, 0, 0], [0, 1, 0], [0, 0, 1]]):\n",
        "    print(\"Matrica nije ortogonalna!\")\n",
        "    return\n",
        "  '''\n",
        "\n",
        "  if (A[2][0] < 1 and A[2][0] > -1):\n",
        "    psi = math.atan2(A[1][0], A[0][0])\n",
        "    tetha = math.asin(-A[2][0])\n",
        "    phi = math.atan2(A[2][1], A[2][2])\n",
        "    return phi, tetha, psi\n",
        "\n",
        "  if (A[2][0] == -1):\n",
        "    phi = 0\n",
        "    tetha = math.pi/2\n",
        "    psi = math.atan2(-A[0][1], A[1][1])\n",
        "    return phi, tetha, psi\n",
        "\n",
        "  phi = 0\n",
        "  tetha = -math.pi/2\n",
        "  psi = math.atan2(-A[0][1], A[1][1])\n",
        "  return phi, tetha, psi\n",
        "\n",
        "phi, tetha, psi = A2Euler(np.array([[1/9, -8/9, -4/9], [4/9, 4/9, -7/9], [8/9, -1/9, 4/9]]))\n",
        "print(\"Trazeni Ojlerovi uglovi:\")\n",
        "print(f\"Psi: {psi}\")\n",
        "print(f\"Tetha: {tetha}\")\n",
        "print(f\"Phi: {phi}\")\n"
      ],
      "execution_count": 65,
      "outputs": [
        {
          "output_type": "stream",
          "text": [
            "Trazeni Ojlerovi uglovi:\n",
            "Psi: 1.3258176636680326\n",
            "Tetha: -1.09491407713448\n",
            "Phi: -0.24497866312686414\n"
          ],
          "name": "stdout"
        }
      ]
    },
    {
      "cell_type": "code",
      "metadata": {
        "colab": {
          "base_uri": "https://localhost:8080/"
        },
        "id": "IoOgtdTbgO_b",
        "outputId": "e3775e02-656b-4cac-8472-fe9118b280f9"
      },
      "source": [
        "def Euler2A(phi, tetha, psi):\n",
        "  Rx_phi = Rodrigez(np.array([1, 0, 0]), phi)\n",
        "  Ry_tetha = Rodrigez(np.array([0, 1, 0]), tetha)\n",
        "  Rz_psi = Rodrigez(np.array([0, 0, 1]), psi)\n",
        "\n",
        "  return np.matmul(np.matmul(Rz_psi, Ry_tetha), Rx_phi)\n",
        "  #return Rz_psi @ Ry_tetha @ Rx_phi\n",
        "\n",
        "A = Euler2A(np.pi/3, np.pi/3, np.pi/3)\n",
        "print(\"Trazena matrica rotacije:\")\n",
        "print()\n",
        "print(A)"
      ],
      "execution_count": 66,
      "outputs": [
        {
          "output_type": "stream",
          "text": [
            "Trazena matrica rotacije:\n",
            "\n",
            "[[ 0.25       -0.0580127   0.96650635]\n",
            " [ 0.4330127   0.89951905 -0.0580127 ]\n",
            " [-0.8660254   0.4330127   0.25      ]]\n"
          ],
          "name": "stdout"
        }
      ]
    },
    {
      "cell_type": "code",
      "metadata": {
        "colab": {
          "base_uri": "https://localhost:8080/"
        },
        "id": "erxsbeLIYv-Y",
        "outputId": "11f24c75-508f-4d56-8c7a-542ccdff3b60"
      },
      "source": [
        "def AngleAxis2Q(p, phi):\n",
        "  w = math.cos(phi/2)\n",
        "  p = normalize(p)\n",
        "\n",
        "  x = math.sin(phi/2) * p[0]\n",
        "  y = math.sin(phi/2) * p[1]\n",
        "  z = math.sin(phi/2) * p[2]\n",
        "\n",
        "  return x, y, z, w\n",
        "\n",
        "# TODO\n",
        "# Kod mene nema nekog minusa kao kod profesora, istestiraj jos malo\n",
        "x, y, z, w = AngleAxis2Q(np.array([1/3, -2/3, 2/3]), math.pi/2)\n",
        "\n",
        "print(f\"Trazeni kvaternion je: {x}*i {f'- {-y}' if y < 0 else f'+ {y}'}*j {f'- {-z}' if z < 0 else f'+ {z}'}*k {f'- {-w}' if w < 0 else f'+ {w}'}\")"
      ],
      "execution_count": 67,
      "outputs": [
        {
          "output_type": "stream",
          "text": [
            "Trazeni kvaternion je: 0.2357022603955158*i - 0.4714045207910316*j + 0.4714045207910316*k + 0.7071067811865476\n"
          ],
          "name": "stdout"
        }
      ]
    },
    {
      "cell_type": "code",
      "metadata": {
        "colab": {
          "base_uri": "https://localhost:8080/"
        },
        "id": "7TuDY_Olaw1R",
        "outputId": "bf078f45-bc74-44e1-e472-f9ad9bd43877"
      },
      "source": [
        "def Q2AngleAxis(q):\n",
        "  q = q/LA.norm(q)\n",
        "\n",
        "  if q[3] < 0:\n",
        "    q = -q\n",
        "\n",
        "  phi = 2*math.acos(q[3])\n",
        "\n",
        "  if abs(q[3]) == 1:\n",
        "    p = np.array([1, 0, 0])\n",
        "    return p, phi\n",
        "\n",
        "  p = normalize(np.array([q[0], q[1], q[2]]))\n",
        "  return p, phi\n",
        "\n",
        "p, phi = Q2AngleAxis(np.array([0.2357022603955158, -0.4714045207910316, 0.4714045207910316, 0.7071067811865476]))\n",
        "print(f\"Prava oko koje se rotira je: [{p[0]}, {p[1]}, {p[2]}]\")\n",
        "print(f\"Ugao za koji se rotira je: {phi}\")"
      ],
      "execution_count": 68,
      "outputs": [
        {
          "output_type": "stream",
          "text": [
            "Prava oko koje se rotira je: [0.3333333333333333, -0.6666666666666666, 0.6666666666666666]\n",
            "Ugao za koji se rotira je: 1.5707963267948966\n"
          ],
          "name": "stdout"
        }
      ]
    },
    {
      "cell_type": "code",
      "metadata": {
        "colab": {
          "base_uri": "https://localhost:8080/"
        },
        "id": "f6Bc9SFFS5en",
        "outputId": "82cc7f8a-df60-4d69-cba7-c0382a098703"
      },
      "source": [
        "def test():\n",
        "  # Profesorov test primer\n",
        "  # phi = -np.arctan(1/4)\n",
        "  # theta = -np.arcsin(8/9)\n",
        "  # psi =  np.arctan(4)\n",
        "\n",
        "  # Moj test primer\n",
        "  phi = np.pi/3\n",
        "  theta = np.pi/3\n",
        "  psi = np.pi/3\n",
        "\n",
        "  # Ojlerovi uglovi\n",
        "  print('Ojlerovi uglovi:')\n",
        "  print('\\u03D5 =', phi)\n",
        "  print('\\u03B8 =', theta)\n",
        "  print('\\u03C8 =', psi)\n",
        "  print()\n",
        "\n",
        "  # Matrica rotacije\n",
        "  print('Euler2A:')\n",
        "  A = Euler2A(phi, theta, psi)\n",
        "  print('A =')\n",
        "  print(A)\n",
        "  print()\n",
        "\n",
        "  # Osa i ugao\n",
        "  print('AxisAngle:')\n",
        "  p, phi0 = AxisAngle(A)\n",
        "  print('p =', p)\n",
        "  print('\\u03D5 =', phi0)\n",
        "  print()\n",
        "\n",
        "  # Vracanje na matricu\n",
        "  print('Rodrigez:')\n",
        "  A = Rodrigez(p, phi0)\n",
        "  print('A =')\n",
        "  print(A)\n",
        "  print()\n",
        "\n",
        "  # Vracanje na uglove\n",
        "  print('A2Euler:')\n",
        "  phi, theta, psi = A2Euler(A)\n",
        "  print('\\u03D5 =', phi)\n",
        "  print('\\u03B8 =', theta)\n",
        "  print('\\u03C8 =', psi)\n",
        "  print()\n",
        "\n",
        "  # Kvaternion\n",
        "  print('AxisAngle2Q:')\n",
        "  q = AngleAxis2Q(p, phi0)\n",
        "  x, y, z, w = q\n",
        "  print(f'q = {w:f} {x:+f}i {y:+f}j {z:+f}k')\n",
        "  print()\n",
        "\n",
        "  # Vracanje na osu i ugao\n",
        "  print('Q2AxisAngle:')\n",
        "  p, phi = Q2AngleAxis(q)\n",
        "  print('p =', p)\n",
        "  print('\\u03D5 =', phi)\n",
        "\n",
        "test()"
      ],
      "execution_count": 69,
      "outputs": [
        {
          "output_type": "stream",
          "text": [
            "Ojlerovi uglovi:\n",
            "ϕ = 1.0471975511965976\n",
            "θ = 1.0471975511965976\n",
            "ψ = 1.0471975511965976\n",
            "\n",
            "Euler2A:\n",
            "A =\n",
            "[[ 0.25       -0.0580127   0.96650635]\n",
            " [ 0.4330127   0.89951905 -0.0580127 ]\n",
            " [-0.8660254   0.4330127   0.25      ]]\n",
            "\n",
            "AxisAngle:\n",
            "p = [0.25056281 0.93511313 0.25056281]\n",
            "ϕ = 1.3696838321801164\n",
            "\n",
            "Rodrigez:\n",
            "A =\n",
            "[[ 0.25       -0.0580127   0.96650635]\n",
            " [ 0.4330127   0.89951905 -0.0580127 ]\n",
            " [-0.8660254   0.4330127   0.25      ]]\n",
            "\n",
            "A2Euler:\n",
            "ϕ = 1.0471975511965974\n",
            "θ = 1.0471975511965976\n",
            "ψ = 1.0471975511965974\n",
            "\n",
            "AxisAngle2Q:\n",
            "q = 0.774519 +0.158494i +0.591506j +0.158494k\n",
            "\n",
            "Q2AxisAngle:\n",
            "p = [0.25056281 0.93511313 0.25056281]\n",
            "ϕ = 1.3696838321801161\n"
          ],
          "name": "stdout"
        }
      ]
    }
  ]
}