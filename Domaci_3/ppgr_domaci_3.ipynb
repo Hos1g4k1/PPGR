{
  "nbformat": 4,
  "nbformat_minor": 0,
  "metadata": {
    "colab": {
      "name": "ppgr_domaci_3.ipynb",
      "provenance": [],
      "collapsed_sections": []
    },
    "kernelspec": {
      "name": "python3",
      "display_name": "Python 3"
    }
  },
  "cells": [
    {
      "cell_type": "code",
      "metadata": {
        "colab": {
          "base_uri": "https://localhost:8080/"
        },
        "id": "TBwU4H0hO04J",
        "outputId": "eb92f9ce-b52d-4fb2-cfa6-5b6b066d421b"
      },
      "source": [
        "import numpy as np\n",
        "from numpy import linalg as LA\n",
        "import math\n",
        "\n",
        "'''\n",
        "  Funkcija koja vrsi noriranje datog vektora\n",
        "'''\n",
        "\n",
        "def normiraj(p):\n",
        "  norm_ = math.sqrt(p[0]**2 + p[1]**2 + p[2]**2)\n",
        "  return p/norm_\n",
        "\n",
        "def norma(p):\n",
        "  return math.sqrt(p[0]**2 + p[1]**2 + p[2]**2)\n",
        "\n",
        "'''\n",
        "  Funkcija prima matricu A koja je ortoganalna i vazi det(A) = 1\n",
        "  i vraca jedinicni vektor p i ugao fi iz [0, pi] takav da vazi\n",
        "  da je matrica A matrica rotacije oko prave p za ugao fi\n",
        "'''\n",
        "def AxisAngle(A):\n",
        "  if round(LA.det(A)) != 1:\n",
        "    print(\"Determinanta matrice A je razlicita od 1!\")\n",
        "    return\n",
        "  '''\n",
        "  TODO\n",
        "  if A @ A.T == np.array([[1, 0, 0], [0, 1, 0], [0, 0, 1]]):\n",
        "    print(\"Matrica nije ortogonalna!\")\n",
        "    return\n",
        "  '''\n",
        "\n",
        "  first = A[0]\n",
        "  second = A[1]\n",
        "  p = np.cross(first, second)\n",
        "  p = normiraj(p) # Trazeni jedinicni vektor p\n",
        "  \n",
        "  u = first # Vektor u je normalan na vektor p \n",
        "\n",
        "  u_bar = A @ u\n",
        "\n",
        "  fi = math.acos((u @ u_bar.T)/(norma(u)*norma(u_bar)))\n",
        "\n",
        "  mesoviti = LA.det(np.array([u, u_bar, p]))\n",
        "  if(mesoviti < 0):\n",
        "    p = -p\n",
        "    fi = 2*math.pi - fi\n",
        "\n",
        "  return (p, fi)\n",
        "\n",
        "\n",
        "p, fi = AxisAngle(np.array([[1/9, 8/9, -4/9], [-4/9, 4/9, 7/9], [8/9, 1/9, 4/9]]))\n",
        "print(f\"Jedinicni vektor oko kog se rotira: {p}\")\n",
        "print(f\"Ugao za koji se rotira: {fi}\")"
      ],
      "execution_count": 36,
      "outputs": [
        {
          "output_type": "stream",
          "text": [
            "Jedinicni vektor oko kog se rotira: [-0.88888889 -0.11111111 -0.44444444]\n",
            "Ugao za koji se rotira: 4.823729994725653\n"
          ],
          "name": "stdout"
        }
      ]
    },
    {
      "cell_type": "code",
      "metadata": {
        "colab": {
          "base_uri": "https://localhost:8080/"
        },
        "id": "OVnRmo69P-C5",
        "outputId": "dc434406-0fb7-451f-f0cb-3451dda29ad9"
      },
      "source": [
        "def izmnozi(p):\n",
        "  p_t = np.array([[p[0]], [p[1]], [p[2]]])\n",
        "  return np.array([p_t[0]*p, p_t[1]*p, p_t[2]*p])\n",
        "'''\n",
        "  Funkcija koja racuna matricu rotacije oko prave p za ugao fi\n",
        "  Kao ulaz prima vektor kolonu oko kog se vrsi rotacija i ugao rotacije\n",
        "'''\n",
        "\n",
        "def Rodrigez(p, phi):\n",
        "  p = normiraj(p)\n",
        "  E = np.array([[1, 0, 0], [0, 1, 0], [0, 0, 1]])\n",
        "  p_pt = izmnozi(p)\n",
        "  p_x = np.array([[0, -p[2], p[1]], [p[2], 0, -p[0]], [-p[1], p[0], 0]])\n",
        "\n",
        "  return p_pt + math.cos(phi)*(E - p_pt) + math.sin(phi)*p_x\n",
        "\n",
        "Rodrigez(np.array([1, 0, 0]), math.pi/2)"
      ],
      "execution_count": 61,
      "outputs": [
        {
          "output_type": "execute_result",
          "data": {
            "text/plain": [
              "array([[ 1.000000e+00,  0.000000e+00,  0.000000e+00],\n",
              "       [ 0.000000e+00,  6.123234e-17, -1.000000e+00],\n",
              "       [ 0.000000e+00,  1.000000e+00,  6.123234e-17]])"
            ]
          },
          "metadata": {
            "tags": []
          },
          "execution_count": 61
        }
      ]
    },
    {
      "cell_type": "code",
      "metadata": {
        "colab": {
          "base_uri": "https://localhost:8080/"
        },
        "id": "sT2_d98rdwHa",
        "outputId": "1e496757-6c00-4a1b-a714-f46addfb5140"
      },
      "source": [
        "'''\n",
        "  Funkcija prima ortogonalnu matricu A i vazi det(A) = 1\n",
        "  i vraca Ojlerove uglove phi, tetha, psi redom\n",
        "'''\n",
        "def A2Euler(A):\n",
        "  if round(LA.det(A)) != 1:\n",
        "    print(\"Determinanta matrice A je razlicita od 1!\")\n",
        "    return\n",
        "  '''\n",
        "  TODO\n",
        "  if A @ A.T == np.array([[1, 0, 0], [0, 1, 0], [0, 0, 1]]):\n",
        "    print(\"Matrica nije ortogonalna!\")\n",
        "    return\n",
        "  '''\n",
        "\n",
        "  if (A[2][0] < 1 and A[2][0] > -1):\n",
        "    psi = math.atan2(A[1][0], A[0][0])\n",
        "    tetha = math.asin(-A[2][0])\n",
        "    phi = math.atan2(A[2][1], A[1][1])\n",
        "    return phi, tetha, psi\n",
        "\n",
        "  if (A[2][0] == -1):\n",
        "    phi = 0\n",
        "    tetha = math.pi/2\n",
        "    psi = math.atan2(-A[0][1], A[1][1])\n",
        "    return phi, tetha, psi\n",
        "\n",
        "  phi = 0\n",
        "  tetha = -math.pi/2\n",
        "  psi = math.atan2(-A[0][1], A[1][1])\n",
        "  return phi, tetha, psi\n",
        "\n",
        "phi, tetha, psi = A2Euler(np.array([[0, 0, 1], [0, -1, 0], [1, 0, 0]]))\n",
        "print(\"Uglovi:\")\n",
        "print(f\"Psi: {psi}\")\n",
        "print(f\"Tetha: {tetha}\")\n",
        "print(f\"Phi: {phi}\")\n"
      ],
      "execution_count": 64,
      "outputs": [
        {
          "output_type": "stream",
          "text": [
            "Uglovi:\n",
            "Psi: 3.141592653589793\n",
            "Tetha: -1.5707963267948966\n",
            "Phi: 0\n"
          ],
          "name": "stdout"
        }
      ]
    },
    {
      "cell_type": "code",
      "metadata": {
        "colab": {
          "base_uri": "https://localhost:8080/"
        },
        "id": "IoOgtdTbgO_b",
        "outputId": "44df3887-76f7-4a5e-9c58-7e38c8527592"
      },
      "source": [
        "def Euler2A(phi, tetha, psi):\n",
        "  Rx_phi = Rodrigez(np.array([1, 0, 0]), phi)\n",
        "  Ry_tetha = Rodrigez(np.array([0, 1, 0]), tetha)\n",
        "  Rz_psi = Rodrigez(np.array([0, 0, 1]), psi)\n",
        "\n",
        "  return Rz_psi @ Ry_tetha @ Rx_phi\n",
        "\n",
        "A = Euler2A(-math.asin(1/4), -math.asin(8/9), math.atan(4))\n",
        "print(A)"
      ],
      "execution_count": 66,
      "outputs": [
        {
          "output_type": "stream",
          "text": [
            "[[ 0.11111111 -0.88543963 -0.45127706]\n",
            " [ 0.44444444  0.45042133 -0.77433182]\n",
            " [ 0.88888889 -0.11453071  0.44357554]]\n"
          ],
          "name": "stdout"
        }
      ]
    }
  ]
}