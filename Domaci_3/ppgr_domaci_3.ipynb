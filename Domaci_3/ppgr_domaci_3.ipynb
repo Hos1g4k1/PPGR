{
  "nbformat": 4,
  "nbformat_minor": 0,
  "metadata": {
    "colab": {
      "name": "ppgr_domaci_3.ipynb",
      "provenance": [],
      "collapsed_sections": []
    },
    "kernelspec": {
      "name": "python3",
      "display_name": "Python 3"
    }
  },
  "cells": [
    {
      "cell_type": "code",
      "metadata": {
        "colab": {
          "base_uri": "https://localhost:8080/"
        },
        "id": "TBwU4H0hO04J",
        "outputId": "bee6111d-74a3-46dd-9db6-d2f18921b6ad"
      },
      "source": [
        "import numpy as np\n",
        "from numpy import linalg as LA\n",
        "import math\n",
        "import warnings\n",
        "'''\n",
        "  Funkcija koja vrsi noriranje datog vektora\n",
        "'''\n",
        "\n",
        "def vector_norm(p):\n",
        "  sum = 0\n",
        "  for x in p:\n",
        "    sum += x**2\n",
        "  return math.sqrt(sum)\n",
        "\n",
        "def normalize(p):\n",
        "  norm_ = vector_norm(p)\n",
        "  return p/norm_\n",
        "'''\n",
        "  Funkcija prima matricu A koja je ortoganalna i vazi det(A) = 1\n",
        "  i vraca jedinicni vektor p i ugao fi iz [0, pi] takav da vazi\n",
        "  da je matrica A matrica rotacije oko prave p za ugao fi\n",
        "'''\n",
        "def AxisAngle(A):\n",
        "  if round(LA.det(A)) != 1:\n",
        "    print(\"Determinanta matrice A je razlicita od 1!\")\n",
        "    return\n",
        "  '''\n",
        "  TODO\n",
        "  if A @ A.T == np.array([[1, 0, 0], [0, 1, 0], [0, 0, 1]]):\n",
        "    print(\"Matrica nije ortogonalna!\")\n",
        "    return\n",
        "  '''\n",
        "  \n",
        "  A = A - np.eye(3)\n",
        "\n",
        "  first = A[0]\n",
        "  second = A[1]\n",
        "  third = A[2]\n",
        "\n",
        "  p = np.cross(first, second)\n",
        "  if not np.any(p):\n",
        "    p = np.cross(first, third)\n",
        "    if not np.any(p):\n",
        "      p = np.cross(second, third)\n",
        "  p = normalize(p) # Trazeni jedinicni vektor p\n",
        "\n",
        "  u = first # Vektor u je normalan na vektor p\n",
        "  #print(u) \n",
        "  if not np.any(u):\n",
        "    u = second\n",
        "    if not np.any(u):\n",
        "      u = third\n",
        "  u = normalize(u)\n",
        "  #print(u)\n",
        "  #u_bar = np.matmul(A, u)\n",
        "  u_bar = A @ u\n",
        "\n",
        "  phi = math.acos(u @ u_bar.T)\n",
        "\n",
        "  mesoviti = LA.det(np.array([u, u_bar, p]))\n",
        "  if mesoviti < 0:\n",
        "    p = -p\n",
        "\n",
        "  return (p, phi)\n",
        "\n",
        "p, phi = AxisAngle(np.array([[1/9, -8/9, -4/9], [4/9, 4/9, -7/9], [8/9, -1/9, 4/9]]))\n",
        "#p, phi = AxisAngle(np.array([[1/9, 8/9, -4/9], [-4/9, 4/9, 7/9], [8/9, 1/9, 4/9]]))\n",
        "print(f\"Jedinicni vektor oko kog se rotira: {p}\")\n",
        "print(f\"Ugao za koji se rotira: {phi}\")"
      ],
      "execution_count": 49,
      "outputs": [
        {
          "output_type": "stream",
          "text": [
            "Jedinicni vektor oko kog se rotira: [ 0.33333333 -0.66666667  0.66666667]\n",
            "Ugao za koji se rotira: 3.141592653589793\n"
          ],
          "name": "stdout"
        }
      ]
    },
    {
      "cell_type": "code",
      "metadata": {
        "colab": {
          "base_uri": "https://localhost:8080/"
        },
        "id": "OVnRmo69P-C5",
        "outputId": "d94ba0d2-77d4-412a-8e76-a818292050da"
      },
      "source": [
        "def izmnozi(p):\n",
        "  p_t = np.array([[p[0]], [p[1]], [p[2]]])\n",
        "  return np.array([p_t[0]*p, p_t[1]*p, p_t[2]*p])\n",
        "'''\n",
        "  Funkcija koja racuna matricu rotacije oko prave p za ugao fi\n",
        "  Kao ulaz prima vektor kolonu oko kog se vrsi rotacija i ugao rotacije\n",
        "'''\n",
        "\n",
        "def Rodrigez(p, phi):\n",
        "  p = normalize(p)\n",
        "  p_pt = izmnozi(p)\n",
        "  p_x = np.array([[0, -p[2], p[1]], [p[2], 0, -p[0]], [-p[1], p[0], 0]])\n",
        "\n",
        "  return p_pt + math.cos(phi)*(np.eye(3) - p_pt) + math.sin(phi)*p_x\n",
        "p, phi = AxisAngle(np.array([[1/9, 8/9, -4/9], [-4/9, 4/9, 7/9], [8/9, 1/9, 4/9]]))\n",
        "\n",
        "A = Rodrigez(p, phi)\n",
        "\n",
        "print(\"Matrica rotacije dobijena Rodrigezovom formulom: \")\n",
        "print()\n",
        "print(A)"
      ],
      "execution_count": 43,
      "outputs": [
        {
          "output_type": "stream",
          "text": [
            "Matrica rotacije dobijena Rodrigezovom formulom: \n",
            "\n",
            "[[ 0.11111111  0.88888889 -0.44444444]\n",
            " [-0.44444444  0.44444444  0.77777778]\n",
            " [ 0.88888889  0.11111111  0.44444444]]\n"
          ],
          "name": "stdout"
        }
      ]
    },
    {
      "cell_type": "code",
      "metadata": {
        "colab": {
          "base_uri": "https://localhost:8080/"
        },
        "id": "sT2_d98rdwHa",
        "outputId": "419f1a98-e93e-43f9-f3e8-b9e0b0eccda6"
      },
      "source": [
        "'''\n",
        "  Funkcija prima ortogonalnu matricu A i vazi det(A) = 1\n",
        "  i vraca Ojlerove uglove phi, tetha, psi redom\n",
        "'''\n",
        "def A2Euler(A):\n",
        "  if round(LA.det(A)) != 1:\n",
        "    print(\"Determinanta matrice A je razlicita od 1!\")\n",
        "    return\n",
        "  '''\n",
        "  TODO\n",
        "  if A @ A.T == np.array([[1, 0, 0], [0, 1, 0], [0, 0, 1]]):\n",
        "    print(\"Matrica nije ortogonalna!\")\n",
        "    return\n",
        "  '''\n",
        "\n",
        "  if (A[2][0] < 1 and A[2][0] > -1):\n",
        "    psi = math.atan2(A[1][0], A[0][0])\n",
        "    tetha = math.asin(-A[2][0])\n",
        "    phi = math.atan2(A[2][1], A[1][1])\n",
        "    return phi, tetha, psi\n",
        "\n",
        "  if (A[2][0] == -1):\n",
        "    phi = 0\n",
        "    tetha = math.pi/2\n",
        "    psi = math.atan2(-A[0][1], A[1][1])\n",
        "    return phi, tetha, psi\n",
        "\n",
        "  phi = 0\n",
        "  tetha = -math.pi/2\n",
        "  psi = math.atan2(-A[0][1], A[1][1])\n",
        "  return phi, tetha, psi\n",
        "\n",
        "phi, tetha, psi = A2Euler(np.array([[1/9, -8/9, -4/9], [4/9, 4/9, -7/9], [8/9, -1/9, 4/9]]))\n",
        "print(\"Trazeni Ojlerovi uglovi:\")\n",
        "print(f\"Psi: {psi}\")\n",
        "print(f\"Tetha: {tetha}\")\n",
        "print(f\"Phi: {phi}\")\n"
      ],
      "execution_count": null,
      "outputs": [
        {
          "output_type": "stream",
          "text": [
            "Trazeni Ojlerovi uglovi:\n",
            "Psi: 1.3258176636680326\n",
            "Tetha: -1.09491407713448\n",
            "Phi: -0.24497866312686414\n"
          ],
          "name": "stdout"
        }
      ]
    },
    {
      "cell_type": "code",
      "metadata": {
        "colab": {
          "base_uri": "https://localhost:8080/"
        },
        "id": "IoOgtdTbgO_b",
        "outputId": "db74ba10-1478-41d7-ca3f-4b32044f5b2c"
      },
      "source": [
        "def Euler2A(phi, tetha, psi):\n",
        "  Rx_phi = Rodrigez(np.array([1, 0, 0]), phi)\n",
        "  Ry_tetha = Rodrigez(np.array([0, 1, 0]), tetha)\n",
        "  Rz_psi = Rodrigez(np.array([0, 0, 1]), psi)\n",
        "\n",
        "  return Rz_psi @ Ry_tetha @ Rx_phi\n",
        "\n",
        "A = Euler2A(-math.asin(1/4), -math.asin(8/9), math.atan(4))\n",
        "print(\"Trazena matrica rotacije:\")\n",
        "print()\n",
        "print(A)"
      ],
      "execution_count": null,
      "outputs": [
        {
          "output_type": "stream",
          "text": [
            "Trazena matrica rotacije:\n",
            "\n",
            "[[ 0.11111111 -0.88543963 -0.45127706]\n",
            " [ 0.44444444  0.45042133 -0.77433182]\n",
            " [ 0.88888889 -0.11453071  0.44357554]]\n"
          ],
          "name": "stdout"
        }
      ]
    },
    {
      "cell_type": "code",
      "metadata": {
        "colab": {
          "base_uri": "https://localhost:8080/"
        },
        "id": "erxsbeLIYv-Y",
        "outputId": "17081386-fd42-4943-88ba-331e8f84591d"
      },
      "source": [
        "def AngleAxis2Q(p, phi):\n",
        "  w = math.cos(phi/2)\n",
        "  p = normalize(p)\n",
        "\n",
        "  x = math.sin(phi/2) * p[0]\n",
        "  y = math.sin(phi/2) * p[1]\n",
        "  z = math.sin(phi/2) * p[2]\n",
        "\n",
        "  return x, y, z, w\n",
        "\n",
        "# TODO\n",
        "# Kod mene nema nekog minusa kao kod profesora, istestiraj jos malo\n",
        "x, y, z, w = AngleAxis2Q(np.array([1/3, -2/3, 2/3]), math.pi/2)\n",
        "\n",
        "print(f\"Trazeni kvaternion je: {x}*i {f'- {-y}' if y < 0 else f'+ {y}'}*j {f'- {-z}' if z < 0 else f'+ {z}'}*k {f'- {-w}' if w < 0 else f'+ {w}'}\")"
      ],
      "execution_count": null,
      "outputs": [
        {
          "output_type": "stream",
          "text": [
            "Trazeni kvaternion je: 0.2357022603955158*i - 0.4714045207910316*j + 0.4714045207910316*k + 0.7071067811865476\n"
          ],
          "name": "stdout"
        }
      ]
    },
    {
      "cell_type": "code",
      "metadata": {
        "colab": {
          "base_uri": "https://localhost:8080/"
        },
        "id": "7TuDY_Olaw1R",
        "outputId": "d9c44a76-b034-4f78-b09d-85a5248ccb42"
      },
      "source": [
        "def Q2AngleAxis(q):\n",
        "  q = normalize(q)\n",
        "\n",
        "  if q[3] < 0:\n",
        "    q = -q\n",
        "\n",
        "  phi = 2*math.acos(q[3])\n",
        "\n",
        "  if abs(q[3]) == 1:\n",
        "    p = np.array([1, 0, 0])\n",
        "    return p, phi\n",
        "\n",
        "  p = normalize(np.array([q[0], q[1], q[2]]))\n",
        "  return p, phi\n",
        "\n",
        "p, phi = Q2AngleAxis(np.array([0.2357022603955158, -0.4714045207910316, 0.4714045207910316, 0.7071067811865476]))\n",
        "print(f\"Prava oko koje se rotira je: [{p[0]}, {p[1]}, {p[2]}]\")\n",
        "print(f\"Ugao za koji se rotira je: {phi}\")"
      ],
      "execution_count": null,
      "outputs": [
        {
          "output_type": "stream",
          "text": [
            "Prava oko koje se rotira je: [0.3333333333333333, -0.6666666666666666, 0.6666666666666666]\n",
            "Ugao za koji se rotira je: 1.5707963267948966\n"
          ],
          "name": "stdout"
        }
      ]
    }
  ]
}